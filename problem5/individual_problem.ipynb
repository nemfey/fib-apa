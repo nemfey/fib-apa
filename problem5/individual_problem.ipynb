{
  "cells": [
    {
      "cell_type": "markdown",
      "metadata": {
        "id": "B4n_30wpwAc8"
      },
      "source": [
        "**Autor**: Victor Teixidó López"
      ]
    },
    {
      "cell_type": "code",
      "execution_count": null,
      "metadata": {
        "colab": {
          "base_uri": "https://localhost:8080/"
        },
        "id": "5XgjH8FMyBz8",
        "outputId": "b723515f-d999-4397-a967-e30f8d6f6764"
      },
      "outputs": [
        {
          "output_type": "stream",
          "name": "stdout",
          "text": [
            "  Building wheel for remotezip (setup.py) ... \u001b[?25l\u001b[?25hdone\n"
          ]
        }
      ],
      "source": [
        "!pip install apafib --upgrade --user --quiet"
      ]
    },
    {
      "cell_type": "code",
      "execution_count": null,
      "metadata": {
        "id": "GDzH8y8zwFdM"
      },
      "outputs": [],
      "source": [
        "from IPython.core.interactiveshell import InteractiveShell\n",
        "InteractiveShell.ast_node_interactivity = \"all\"\n",
        "from IPython.display import display, HTML\n",
        "show_html = lambda html: display(HTML(html))"
      ]
    },
    {
      "cell_type": "code",
      "execution_count": null,
      "metadata": {
        "id": "ta2_rAuvCStb"
      },
      "outputs": [],
      "source": [
        "import numpy as np\n",
        "import pandas as pd\n",
        "import seaborn as sns\n",
        "import matplotlib.pyplot as plt\n",
        "\n",
        "from sklearn.model_selection import GridSearchCV\n",
        "from sklearn.svm import SVR\n",
        "from sklearn.ensemble import RandomForestRegressor, GradientBoostingRegressor, StackingRegressor, VotingRegressor\n",
        "\n",
        "from sklearn.inspection import permutation_importance\n",
        "\n",
        "from yellowbrick.regressor import prediction_error"
      ]
    },
    {
      "cell_type": "markdown",
      "metadata": {
        "id": "voHRN4q2t9mL"
      },
      "source": [
        "# LA INFLUENCIA DE LA CESTA DE LA COMPRA\n",
        "\n",
        "Uno de los datos que recolecta la web de la ciutat al día del ayuntamiento de Barcelona es la evolución del precio de los alimentos (verduras, fruta,carne, pescado). Una cosa que nos podemos preguntar es en que otra información puede tener influencia esta evolución y cuál de estos productos es el que tiene más relación. Igual que en otros problemas que usan este conjunto de datos, correlación no significa causalidad, la relación suele corresponden a otras variables no observadas, pero a falta de conocerlas podemos usar las relaciones que aparecen para formular hipótesis.\n",
        "\n",
        "En este caso nos podemos preguntar si esta evolución de precios tiene relación con la evolución de reservas hoteleras internacionales en Barcelona."
      ]
    },
    {
      "cell_type": "code",
      "execution_count": null,
      "metadata": {
        "colab": {
          "base_uri": "https://localhost:8080/",
          "height": 320
        },
        "id": "KS-iJ0Whx4Zp",
        "outputId": "961372ac-42a3-46e0-a1db-be46e4da6da1"
      },
      "outputs": [
        {
          "output_type": "execute_result",
          "data": {
            "text/plain": [
              "   Carn / Pollastre  Carn / Porcí  Fruites i hortalisses / Ceba  \\\n",
              "0              0.85           1.1                           0.3   \n",
              "1              0.85           1.1                           0.3   \n",
              "2              0.85           1.1                           0.3   \n",
              "3              0.85           1.1                           0.3   \n",
              "4              0.85           1.1                           0.3   \n",
              "\n",
              "   Fruites i hortalisses / Patata  Fruites i hortalisses / Plàtan  \\\n",
              "0                             0.4                             1.0   \n",
              "1                             0.4                             1.0   \n",
              "2                             0.4                             1.0   \n",
              "3                             0.4                             1.0   \n",
              "4                             0.4                             1.0   \n",
              "\n",
              "   Fruites i hortalisses / Poma  Fruites i hortalisses / Taronja  \\\n",
              "0                           0.8                              1.0   \n",
              "1                           0.8                              1.0   \n",
              "2                           0.8                              1.0   \n",
              "3                           0.8                              1.0   \n",
              "4                           0.8                              1.0   \n",
              "\n",
              "   Peix i marisc / Llenguado  Peix i marisc / Llobarro  Peix i marisc / Lluç  \\\n",
              "0                       13.0                       5.0                   6.0   \n",
              "1                       13.0                       5.0                   6.0   \n",
              "2                       13.0                       5.0                   6.0   \n",
              "3                       13.0                       5.0                   6.0   \n",
              "4                       13.0                       5.0                   6.0   \n",
              "\n",
              "   Peix i marisc / Orada  \\\n",
              "0                    4.2   \n",
              "1                    4.2   \n",
              "2                    4.2   \n",
              "3                    4.2   \n",
              "4                    4.2   \n",
              "\n",
              "   Indicador de reserves hoteleres internacionals (base = mitjana suavitzada gener/febrer 2020) / Barcelona  \n",
              "0                                               3.63                                                         \n",
              "1                                               3.22                                                         \n",
              "2                                               3.36                                                         \n",
              "3                                               3.86                                                         \n",
              "4                                               4.22                                                         "
            ],
            "text/html": [
              "\n",
              "  <div id=\"df-108331de-aaf0-490e-be2e-6336186b89dc\">\n",
              "    <div class=\"colab-df-container\">\n",
              "      <div>\n",
              "<style scoped>\n",
              "    .dataframe tbody tr th:only-of-type {\n",
              "        vertical-align: middle;\n",
              "    }\n",
              "\n",
              "    .dataframe tbody tr th {\n",
              "        vertical-align: top;\n",
              "    }\n",
              "\n",
              "    .dataframe thead th {\n",
              "        text-align: right;\n",
              "    }\n",
              "</style>\n",
              "<table border=\"1\" class=\"dataframe\">\n",
              "  <thead>\n",
              "    <tr style=\"text-align: right;\">\n",
              "      <th></th>\n",
              "      <th>Carn / Pollastre</th>\n",
              "      <th>Carn / Porcí</th>\n",
              "      <th>Fruites i hortalisses / Ceba</th>\n",
              "      <th>Fruites i hortalisses / Patata</th>\n",
              "      <th>Fruites i hortalisses / Plàtan</th>\n",
              "      <th>Fruites i hortalisses / Poma</th>\n",
              "      <th>Fruites i hortalisses / Taronja</th>\n",
              "      <th>Peix i marisc / Llenguado</th>\n",
              "      <th>Peix i marisc / Llobarro</th>\n",
              "      <th>Peix i marisc / Lluç</th>\n",
              "      <th>Peix i marisc / Orada</th>\n",
              "      <th>Indicador de reserves hoteleres internacionals (base = mitjana suavitzada gener/febrer 2020) / Barcelona</th>\n",
              "    </tr>\n",
              "  </thead>\n",
              "  <tbody>\n",
              "    <tr>\n",
              "      <th>0</th>\n",
              "      <td>0.85</td>\n",
              "      <td>1.1</td>\n",
              "      <td>0.3</td>\n",
              "      <td>0.4</td>\n",
              "      <td>1.0</td>\n",
              "      <td>0.8</td>\n",
              "      <td>1.0</td>\n",
              "      <td>13.0</td>\n",
              "      <td>5.0</td>\n",
              "      <td>6.0</td>\n",
              "      <td>4.2</td>\n",
              "      <td>3.63</td>\n",
              "    </tr>\n",
              "    <tr>\n",
              "      <th>1</th>\n",
              "      <td>0.85</td>\n",
              "      <td>1.1</td>\n",
              "      <td>0.3</td>\n",
              "      <td>0.4</td>\n",
              "      <td>1.0</td>\n",
              "      <td>0.8</td>\n",
              "      <td>1.0</td>\n",
              "      <td>13.0</td>\n",
              "      <td>5.0</td>\n",
              "      <td>6.0</td>\n",
              "      <td>4.2</td>\n",
              "      <td>3.22</td>\n",
              "    </tr>\n",
              "    <tr>\n",
              "      <th>2</th>\n",
              "      <td>0.85</td>\n",
              "      <td>1.1</td>\n",
              "      <td>0.3</td>\n",
              "      <td>0.4</td>\n",
              "      <td>1.0</td>\n",
              "      <td>0.8</td>\n",
              "      <td>1.0</td>\n",
              "      <td>13.0</td>\n",
              "      <td>5.0</td>\n",
              "      <td>6.0</td>\n",
              "      <td>4.2</td>\n",
              "      <td>3.36</td>\n",
              "    </tr>\n",
              "    <tr>\n",
              "      <th>3</th>\n",
              "      <td>0.85</td>\n",
              "      <td>1.1</td>\n",
              "      <td>0.3</td>\n",
              "      <td>0.4</td>\n",
              "      <td>1.0</td>\n",
              "      <td>0.8</td>\n",
              "      <td>1.0</td>\n",
              "      <td>13.0</td>\n",
              "      <td>5.0</td>\n",
              "      <td>6.0</td>\n",
              "      <td>4.2</td>\n",
              "      <td>3.86</td>\n",
              "    </tr>\n",
              "    <tr>\n",
              "      <th>4</th>\n",
              "      <td>0.85</td>\n",
              "      <td>1.1</td>\n",
              "      <td>0.3</td>\n",
              "      <td>0.4</td>\n",
              "      <td>1.0</td>\n",
              "      <td>0.8</td>\n",
              "      <td>1.0</td>\n",
              "      <td>13.0</td>\n",
              "      <td>5.0</td>\n",
              "      <td>6.0</td>\n",
              "      <td>4.2</td>\n",
              "      <td>4.22</td>\n",
              "    </tr>\n",
              "  </tbody>\n",
              "</table>\n",
              "</div>\n",
              "      <button class=\"colab-df-convert\" onclick=\"convertToInteractive('df-108331de-aaf0-490e-be2e-6336186b89dc')\"\n",
              "              title=\"Convert this dataframe to an interactive table.\"\n",
              "              style=\"display:none;\">\n",
              "        \n",
              "  <svg xmlns=\"http://www.w3.org/2000/svg\" height=\"24px\"viewBox=\"0 0 24 24\"\n",
              "       width=\"24px\">\n",
              "    <path d=\"M0 0h24v24H0V0z\" fill=\"none\"/>\n",
              "    <path d=\"M18.56 5.44l.94 2.06.94-2.06 2.06-.94-2.06-.94-.94-2.06-.94 2.06-2.06.94zm-11 1L8.5 8.5l.94-2.06 2.06-.94-2.06-.94L8.5 2.5l-.94 2.06-2.06.94zm10 10l.94 2.06.94-2.06 2.06-.94-2.06-.94-.94-2.06-.94 2.06-2.06.94z\"/><path d=\"M17.41 7.96l-1.37-1.37c-.4-.4-.92-.59-1.43-.59-.52 0-1.04.2-1.43.59L10.3 9.45l-7.72 7.72c-.78.78-.78 2.05 0 2.83L4 21.41c.39.39.9.59 1.41.59.51 0 1.02-.2 1.41-.59l7.78-7.78 2.81-2.81c.8-.78.8-2.07 0-2.86zM5.41 20L4 18.59l7.72-7.72 1.47 1.35L5.41 20z\"/>\n",
              "  </svg>\n",
              "      </button>\n",
              "      \n",
              "  <style>\n",
              "    .colab-df-container {\n",
              "      display:flex;\n",
              "      flex-wrap:wrap;\n",
              "      gap: 12px;\n",
              "    }\n",
              "\n",
              "    .colab-df-convert {\n",
              "      background-color: #E8F0FE;\n",
              "      border: none;\n",
              "      border-radius: 50%;\n",
              "      cursor: pointer;\n",
              "      display: none;\n",
              "      fill: #1967D2;\n",
              "      height: 32px;\n",
              "      padding: 0 0 0 0;\n",
              "      width: 32px;\n",
              "    }\n",
              "\n",
              "    .colab-df-convert:hover {\n",
              "      background-color: #E2EBFA;\n",
              "      box-shadow: 0px 1px 2px rgba(60, 64, 67, 0.3), 0px 1px 3px 1px rgba(60, 64, 67, 0.15);\n",
              "      fill: #174EA6;\n",
              "    }\n",
              "\n",
              "    [theme=dark] .colab-df-convert {\n",
              "      background-color: #3B4455;\n",
              "      fill: #D2E3FC;\n",
              "    }\n",
              "\n",
              "    [theme=dark] .colab-df-convert:hover {\n",
              "      background-color: #434B5C;\n",
              "      box-shadow: 0px 1px 3px 1px rgba(0, 0, 0, 0.15);\n",
              "      filter: drop-shadow(0px 1px 2px rgba(0, 0, 0, 0.3));\n",
              "      fill: #FFFFFF;\n",
              "    }\n",
              "  </style>\n",
              "\n",
              "      <script>\n",
              "        const buttonEl =\n",
              "          document.querySelector('#df-108331de-aaf0-490e-be2e-6336186b89dc button.colab-df-convert');\n",
              "        buttonEl.style.display =\n",
              "          google.colab.kernel.accessAllowed ? 'block' : 'none';\n",
              "\n",
              "        async function convertToInteractive(key) {\n",
              "          const element = document.querySelector('#df-108331de-aaf0-490e-be2e-6336186b89dc');\n",
              "          const dataTable =\n",
              "            await google.colab.kernel.invokeFunction('convertToInteractive',\n",
              "                                                     [key], {});\n",
              "          if (!dataTable) return;\n",
              "\n",
              "          const docLinkHtml = 'Like what you see? Visit the ' +\n",
              "            '<a target=\"_blank\" href=https://colab.research.google.com/notebooks/data_table.ipynb>data table notebook</a>'\n",
              "            + ' to learn more about interactive tables.';\n",
              "          element.innerHTML = '';\n",
              "          dataTable['output_type'] = 'display_data';\n",
              "          await google.colab.output.renderOutput(dataTable, element);\n",
              "          const docLink = document.createElement('div');\n",
              "          docLink.innerHTML = docLinkHtml;\n",
              "          element.appendChild(docLink);\n",
              "        }\n",
              "      </script>\n",
              "    </div>\n",
              "  </div>\n",
              "  "
            ]
          },
          "metadata": {},
          "execution_count": 3
        }
      ],
      "source": [
        "from apafib import load_BCN_cesta\n",
        "\n",
        "cesta_data = load_BCN_cesta()\n",
        "cesta_data.head()"
      ]
    },
    {
      "cell_type": "markdown",
      "metadata": {
        "id": "6iBlBpuIt9pv"
      },
      "source": [
        "# Apartado a\n",
        "\n",
        "Vamos a dividir el conjunto de datos en entrenamiento y test (80 %/20 %). Haremos una exploración mínima del conjunto de datos de entrenamiento observando las relaciones entre las variables, especialmente con la variable objetivo. Durante el preproceso transformaremos las variables adecuadamente para poder ajustar modelos de regresión, tanto el conjunto de entrenamiento como el de test."
      ]
    },
    {
      "cell_type": "markdown",
      "metadata": {
        "id": "KY84AtgjzVMX"
      },
      "source": [
        "## Visualización de los datos"
      ]
    },
    {
      "cell_type": "code",
      "execution_count": null,
      "metadata": {
        "colab": {
          "base_uri": "https://localhost:8080/",
          "height": 426
        },
        "id": "3cVlv76b-59W",
        "outputId": "e59fcae1-4924-4493-de4f-2e304e6c962b"
      },
      "outputs": [
        {
          "output_type": "execute_result",
          "data": {
            "text/plain": [
              "                                                    count       mean  \\\n",
              "Carn / Pollastre                                    365.0   1.073096   \n",
              "Carn / Porcí                                        365.0   1.253726   \n",
              "Fruites i hortalisses / Ceba                        365.0   0.318219   \n",
              "Fruites i hortalisses / Patata                      365.0   0.409425   \n",
              "Fruites i hortalisses / Plàtan                      365.0   1.385068   \n",
              "Fruites i hortalisses / Poma                        365.0   0.951370   \n",
              "Fruites i hortalisses / Taronja                     365.0   0.964658   \n",
              "Peix i marisc / Llenguado                           365.0  13.772466   \n",
              "Peix i marisc / Llobarro                            365.0   5.053699   \n",
              "Peix i marisc / Lluç                                365.0   4.302329   \n",
              "Peix i marisc / Orada                               365.0   4.377945   \n",
              "Indicador de reserves hoteleres internacionals ...  365.0  19.650548   \n",
              "\n",
              "                                                          std   min    25%  \\\n",
              "Carn / Pollastre                                     0.126972  0.85   0.96   \n",
              "Carn / Porcí                                         0.182663  1.02   1.10   \n",
              "Fruites i hortalisses / Ceba                         0.106414  0.24   0.25   \n",
              "Fruites i hortalisses / Patata                       0.059244  0.34   0.35   \n",
              "Fruites i hortalisses / Plàtan                       0.307311  0.90   1.20   \n",
              "Fruites i hortalisses / Poma                         0.217436  0.70   0.80   \n",
              "Fruites i hortalisses / Taronja                      0.206549  0.60   0.80   \n",
              "Peix i marisc / Llenguado                            2.110899  8.50  12.80   \n",
              "Peix i marisc / Llobarro                             0.353505  4.50   4.80   \n",
              "Peix i marisc / Lluç                                 1.079658  1.80   3.50   \n",
              "Peix i marisc / Orada                                0.214770  4.00   4.25   \n",
              "Indicador de reserves hoteleres internacionals ...  11.709836  0.38   7.67   \n",
              "\n",
              "                                                      50%    75%    max  \n",
              "Carn / Pollastre                                     1.11   1.18   1.24  \n",
              "Carn / Porcí                                         1.23   1.46   1.55  \n",
              "Fruites i hortalisses / Ceba                         0.30   0.32   1.00  \n",
              "Fruites i hortalisses / Patata                       0.40   0.45   0.65  \n",
              "Fruites i hortalisses / Plàtan                       1.25   1.70   2.00  \n",
              "Fruites i hortalisses / Poma                         0.90   1.00   1.60  \n",
              "Fruites i hortalisses / Taronja                      0.90   1.10   1.75  \n",
              "Peix i marisc / Llenguado                           13.90  15.00  19.00  \n",
              "Peix i marisc / Llobarro                             5.00   5.40   5.95  \n",
              "Peix i marisc / Lluç                                 4.00   5.00   7.50  \n",
              "Peix i marisc / Orada                                4.40   4.50   5.10  \n",
              "Indicador de reserves hoteleres internacionals ...  19.93  30.24  42.98  "
            ],
            "text/html": [
              "\n",
              "  <div id=\"df-97a94acf-55b1-4b0c-8b14-d7d38866ef3b\">\n",
              "    <div class=\"colab-df-container\">\n",
              "      <div>\n",
              "<style scoped>\n",
              "    .dataframe tbody tr th:only-of-type {\n",
              "        vertical-align: middle;\n",
              "    }\n",
              "\n",
              "    .dataframe tbody tr th {\n",
              "        vertical-align: top;\n",
              "    }\n",
              "\n",
              "    .dataframe thead th {\n",
              "        text-align: right;\n",
              "    }\n",
              "</style>\n",
              "<table border=\"1\" class=\"dataframe\">\n",
              "  <thead>\n",
              "    <tr style=\"text-align: right;\">\n",
              "      <th></th>\n",
              "      <th>count</th>\n",
              "      <th>mean</th>\n",
              "      <th>std</th>\n",
              "      <th>min</th>\n",
              "      <th>25%</th>\n",
              "      <th>50%</th>\n",
              "      <th>75%</th>\n",
              "      <th>max</th>\n",
              "    </tr>\n",
              "  </thead>\n",
              "  <tbody>\n",
              "    <tr>\n",
              "      <th>Carn / Pollastre</th>\n",
              "      <td>365.0</td>\n",
              "      <td>1.073096</td>\n",
              "      <td>0.126972</td>\n",
              "      <td>0.85</td>\n",
              "      <td>0.96</td>\n",
              "      <td>1.11</td>\n",
              "      <td>1.18</td>\n",
              "      <td>1.24</td>\n",
              "    </tr>\n",
              "    <tr>\n",
              "      <th>Carn / Porcí</th>\n",
              "      <td>365.0</td>\n",
              "      <td>1.253726</td>\n",
              "      <td>0.182663</td>\n",
              "      <td>1.02</td>\n",
              "      <td>1.10</td>\n",
              "      <td>1.23</td>\n",
              "      <td>1.46</td>\n",
              "      <td>1.55</td>\n",
              "    </tr>\n",
              "    <tr>\n",
              "      <th>Fruites i hortalisses / Ceba</th>\n",
              "      <td>365.0</td>\n",
              "      <td>0.318219</td>\n",
              "      <td>0.106414</td>\n",
              "      <td>0.24</td>\n",
              "      <td>0.25</td>\n",
              "      <td>0.30</td>\n",
              "      <td>0.32</td>\n",
              "      <td>1.00</td>\n",
              "    </tr>\n",
              "    <tr>\n",
              "      <th>Fruites i hortalisses / Patata</th>\n",
              "      <td>365.0</td>\n",
              "      <td>0.409425</td>\n",
              "      <td>0.059244</td>\n",
              "      <td>0.34</td>\n",
              "      <td>0.35</td>\n",
              "      <td>0.40</td>\n",
              "      <td>0.45</td>\n",
              "      <td>0.65</td>\n",
              "    </tr>\n",
              "    <tr>\n",
              "      <th>Fruites i hortalisses / Plàtan</th>\n",
              "      <td>365.0</td>\n",
              "      <td>1.385068</td>\n",
              "      <td>0.307311</td>\n",
              "      <td>0.90</td>\n",
              "      <td>1.20</td>\n",
              "      <td>1.25</td>\n",
              "      <td>1.70</td>\n",
              "      <td>2.00</td>\n",
              "    </tr>\n",
              "    <tr>\n",
              "      <th>Fruites i hortalisses / Poma</th>\n",
              "      <td>365.0</td>\n",
              "      <td>0.951370</td>\n",
              "      <td>0.217436</td>\n",
              "      <td>0.70</td>\n",
              "      <td>0.80</td>\n",
              "      <td>0.90</td>\n",
              "      <td>1.00</td>\n",
              "      <td>1.60</td>\n",
              "    </tr>\n",
              "    <tr>\n",
              "      <th>Fruites i hortalisses / Taronja</th>\n",
              "      <td>365.0</td>\n",
              "      <td>0.964658</td>\n",
              "      <td>0.206549</td>\n",
              "      <td>0.60</td>\n",
              "      <td>0.80</td>\n",
              "      <td>0.90</td>\n",
              "      <td>1.10</td>\n",
              "      <td>1.75</td>\n",
              "    </tr>\n",
              "    <tr>\n",
              "      <th>Peix i marisc / Llenguado</th>\n",
              "      <td>365.0</td>\n",
              "      <td>13.772466</td>\n",
              "      <td>2.110899</td>\n",
              "      <td>8.50</td>\n",
              "      <td>12.80</td>\n",
              "      <td>13.90</td>\n",
              "      <td>15.00</td>\n",
              "      <td>19.00</td>\n",
              "    </tr>\n",
              "    <tr>\n",
              "      <th>Peix i marisc / Llobarro</th>\n",
              "      <td>365.0</td>\n",
              "      <td>5.053699</td>\n",
              "      <td>0.353505</td>\n",
              "      <td>4.50</td>\n",
              "      <td>4.80</td>\n",
              "      <td>5.00</td>\n",
              "      <td>5.40</td>\n",
              "      <td>5.95</td>\n",
              "    </tr>\n",
              "    <tr>\n",
              "      <th>Peix i marisc / Lluç</th>\n",
              "      <td>365.0</td>\n",
              "      <td>4.302329</td>\n",
              "      <td>1.079658</td>\n",
              "      <td>1.80</td>\n",
              "      <td>3.50</td>\n",
              "      <td>4.00</td>\n",
              "      <td>5.00</td>\n",
              "      <td>7.50</td>\n",
              "    </tr>\n",
              "    <tr>\n",
              "      <th>Peix i marisc / Orada</th>\n",
              "      <td>365.0</td>\n",
              "      <td>4.377945</td>\n",
              "      <td>0.214770</td>\n",
              "      <td>4.00</td>\n",
              "      <td>4.25</td>\n",
              "      <td>4.40</td>\n",
              "      <td>4.50</td>\n",
              "      <td>5.10</td>\n",
              "    </tr>\n",
              "    <tr>\n",
              "      <th>Indicador de reserves hoteleres internacionals (base = mitjana suavitzada gener/febrer 2020) / Barcelona</th>\n",
              "      <td>365.0</td>\n",
              "      <td>19.650548</td>\n",
              "      <td>11.709836</td>\n",
              "      <td>0.38</td>\n",
              "      <td>7.67</td>\n",
              "      <td>19.93</td>\n",
              "      <td>30.24</td>\n",
              "      <td>42.98</td>\n",
              "    </tr>\n",
              "  </tbody>\n",
              "</table>\n",
              "</div>\n",
              "      <button class=\"colab-df-convert\" onclick=\"convertToInteractive('df-97a94acf-55b1-4b0c-8b14-d7d38866ef3b')\"\n",
              "              title=\"Convert this dataframe to an interactive table.\"\n",
              "              style=\"display:none;\">\n",
              "        \n",
              "  <svg xmlns=\"http://www.w3.org/2000/svg\" height=\"24px\"viewBox=\"0 0 24 24\"\n",
              "       width=\"24px\">\n",
              "    <path d=\"M0 0h24v24H0V0z\" fill=\"none\"/>\n",
              "    <path d=\"M18.56 5.44l.94 2.06.94-2.06 2.06-.94-2.06-.94-.94-2.06-.94 2.06-2.06.94zm-11 1L8.5 8.5l.94-2.06 2.06-.94-2.06-.94L8.5 2.5l-.94 2.06-2.06.94zm10 10l.94 2.06.94-2.06 2.06-.94-2.06-.94-.94-2.06-.94 2.06-2.06.94z\"/><path d=\"M17.41 7.96l-1.37-1.37c-.4-.4-.92-.59-1.43-.59-.52 0-1.04.2-1.43.59L10.3 9.45l-7.72 7.72c-.78.78-.78 2.05 0 2.83L4 21.41c.39.39.9.59 1.41.59.51 0 1.02-.2 1.41-.59l7.78-7.78 2.81-2.81c.8-.78.8-2.07 0-2.86zM5.41 20L4 18.59l7.72-7.72 1.47 1.35L5.41 20z\"/>\n",
              "  </svg>\n",
              "      </button>\n",
              "      \n",
              "  <style>\n",
              "    .colab-df-container {\n",
              "      display:flex;\n",
              "      flex-wrap:wrap;\n",
              "      gap: 12px;\n",
              "    }\n",
              "\n",
              "    .colab-df-convert {\n",
              "      background-color: #E8F0FE;\n",
              "      border: none;\n",
              "      border-radius: 50%;\n",
              "      cursor: pointer;\n",
              "      display: none;\n",
              "      fill: #1967D2;\n",
              "      height: 32px;\n",
              "      padding: 0 0 0 0;\n",
              "      width: 32px;\n",
              "    }\n",
              "\n",
              "    .colab-df-convert:hover {\n",
              "      background-color: #E2EBFA;\n",
              "      box-shadow: 0px 1px 2px rgba(60, 64, 67, 0.3), 0px 1px 3px 1px rgba(60, 64, 67, 0.15);\n",
              "      fill: #174EA6;\n",
              "    }\n",
              "\n",
              "    [theme=dark] .colab-df-convert {\n",
              "      background-color: #3B4455;\n",
              "      fill: #D2E3FC;\n",
              "    }\n",
              "\n",
              "    [theme=dark] .colab-df-convert:hover {\n",
              "      background-color: #434B5C;\n",
              "      box-shadow: 0px 1px 3px 1px rgba(0, 0, 0, 0.15);\n",
              "      filter: drop-shadow(0px 1px 2px rgba(0, 0, 0, 0.3));\n",
              "      fill: #FFFFFF;\n",
              "    }\n",
              "  </style>\n",
              "\n",
              "      <script>\n",
              "        const buttonEl =\n",
              "          document.querySelector('#df-97a94acf-55b1-4b0c-8b14-d7d38866ef3b button.colab-df-convert');\n",
              "        buttonEl.style.display =\n",
              "          google.colab.kernel.accessAllowed ? 'block' : 'none';\n",
              "\n",
              "        async function convertToInteractive(key) {\n",
              "          const element = document.querySelector('#df-97a94acf-55b1-4b0c-8b14-d7d38866ef3b');\n",
              "          const dataTable =\n",
              "            await google.colab.kernel.invokeFunction('convertToInteractive',\n",
              "                                                     [key], {});\n",
              "          if (!dataTable) return;\n",
              "\n",
              "          const docLinkHtml = 'Like what you see? Visit the ' +\n",
              "            '<a target=\"_blank\" href=https://colab.research.google.com/notebooks/data_table.ipynb>data table notebook</a>'\n",
              "            + ' to learn more about interactive tables.';\n",
              "          element.innerHTML = '';\n",
              "          dataTable['output_type'] = 'display_data';\n",
              "          await google.colab.output.renderOutput(dataTable, element);\n",
              "          const docLink = document.createElement('div');\n",
              "          docLink.innerHTML = docLinkHtml;\n",
              "          element.appendChild(docLink);\n",
              "        }\n",
              "      </script>\n",
              "    </div>\n",
              "  </div>\n",
              "  "
            ]
          },
          "metadata": {},
          "execution_count": 4
        }
      ],
      "source": [
        "cesta_data.describe(include='all').T"
      ]
    },
    {
      "cell_type": "markdown",
      "metadata": {
        "id": "uOJVyheVKDb_"
      },
      "source": [
        "Vamos a renombrar la variable objetivo para facilitar la lectura de la misma a la hora de hacer gráficas."
      ]
    },
    {
      "cell_type": "code",
      "execution_count": null,
      "metadata": {
        "id": "REzkertNG6mH"
      },
      "outputs": [],
      "source": [
        "cesta_data.rename(columns={'Indicador de reserves hoteleres internacionals (base = mitjana suavitzada gener/febrer 2020) / Barcelona': 'Indicador'},\n",
        "                  inplace = True)"
      ]
    },
    {
      "cell_type": "code",
      "execution_count": null,
      "metadata": {
        "colab": {
          "base_uri": "https://localhost:8080/",
          "height": 701
        },
        "id": "KYLr1bQuBjH8",
        "outputId": "ab0fac2d-9d3d-4bf9-8261-c56c6d0a5e0b"
      },
      "outputs": [
        {
          "output_type": "display_data",
          "data": {
            "text/plain": [
              "<Figure size 1440x720 with 12 Axes>"
            ],
            "image/png": "[encoded data removed]"
          },
          "metadata": {}
        }
      ],
      "source": [
        "fig, axes = plt.subplots(3,4, figsize=(20,10))\n",
        "\n",
        "for i, c in enumerate(cesta_data.columns):\n",
        "  ax = axes.reshape(-1)[i]\n",
        "  if cesta_data[c].dtype.kind == 'O':\n",
        "    a = sns.countplot(x=c,data=cesta_data,ax=ax)\n",
        "  else:\n",
        "    b = sns.histplot(x=c,data=cesta_data,ax=ax)\n",
        "  t = ax.set_title(c)\n",
        "plt.tight_layout()"
      ]
    },
    {
      "cell_type": "markdown",
      "metadata": {
        "id": "w4AzO7QcFDcS"
      },
      "source": [
        "Fijándonos en las gráficas que se muestran, podemos ver que los alimentos que forman parte de pescados y mariscos, son más caros (con diferencia) del resto de alimentos. Por otro lado, tanto frutas y hortalizas como carnes, tienen un precio bastante a la par. Destacar que las cebollas y las patatas tienen el precio más bajo de todos los alimentos."
      ]
    },
    {
      "cell_type": "code",
      "execution_count": null,
      "metadata": {
        "colab": {
          "base_uri": "https://localhost:8080/",
          "height": 700
        },
        "id": "4fULGp63FHJ8",
        "outputId": "ab423974-0de2-4012-b56d-a3cc2f097c86"
      },
      "outputs": [
        {
          "output_type": "display_data",
          "data": {
            "text/plain": [
              "<Figure size 864x720 with 2 Axes>"
            ],
            "image/png": "[encoded data removed]"
          },
          "metadata": {}
        }
      ],
      "source": [
        "corr = cesta_data.corr()\n",
        "mask = np.triu(np.ones_like(corr, dtype=bool))\n",
        "\n",
        "plt.subplots(figsize=(12,10))\n",
        "sns.heatmap(corr, mask=mask, cmap='seismic', center=0, square=True, linewidth=.5, cbar_kws={'shrink': .5});"
      ]
    },
    {
      "cell_type": "markdown",
      "metadata": {
        "id": "C5-flLi1Ip1j"
      },
      "source": [
        "Vamos a fijarnos en la correlación que tienen los distintos alimentos con nuestra variable objetivo.\n",
        "\n",
        "Podemos observar como todos los alimentos de la familia de *pescados y mariscos*, parecen tener una correlación positiva con la variable objetivo (especialemente el lenguado y la lubina). Respecto a frutas y hortalizas destacan la manzana y cebolla con una correlación negativa relativamente elevada. La correlación de la carne con la variable *Indicador* no parece ser muy elevada."
      ]
    },
    {
      "cell_type": "markdown",
      "metadata": {
        "id": "gSnN-0XUzYmx"
      },
      "source": [
        "## División de los datos\n",
        "\n",
        "Dividimos los datos en conjuntos de entrenamiento y test (80%/20%)."
      ]
    },
    {
      "cell_type": "code",
      "execution_count": null,
      "metadata": {
        "id": "Xck3yLzmxh66"
      },
      "outputs": [],
      "source": [
        "from sklearn.model_selection import train_test_split\n",
        "\n",
        "Xn = cesta_data.loc[:,cesta_data.columns != 'Indicador']\n",
        "yn = cesta_data['Indicador']\n",
        "\n",
        "X_train, X_test, y_train, y_test = train_test_split(Xn, yn, train_size=0.8, random_state=1)"
      ]
    },
    {
      "cell_type": "markdown",
      "metadata": {
        "id": "BqE8-Q-KBA3D"
      },
      "source": [
        "## Preprocessing\n",
        "\n",
        "Vamos a transformar las variables adecuadamente para poder ajustar modelos de regresión. Estandarizaremos tanto el conjunto de entrenamiento como el de test con el estimador *StandardScaler* proporcionado por la librería de scikir-learn."
      ]
    },
    {
      "cell_type": "code",
      "execution_count": null,
      "metadata": {
        "id": "4OYZnHK0lpkC",
        "colab": {
          "base_uri": "https://localhost:8080/"
        },
        "outputId": "e746e05e-eb62-4c90-ab7d-6afd66853f82"
      },
      "outputs": [
        {
          "output_type": "execute_result",
          "data": {
            "text/plain": [
              "StandardScaler()"
            ]
          },
          "metadata": {},
          "execution_count": 9
        }
      ],
      "source": [
        "from sklearn.preprocessing import StandardScaler\n",
        "\n",
        "scaler = StandardScaler()\n",
        "\n",
        "# Fit the scaler to the data\n",
        "scaler.fit(X_train)\n",
        "\n",
        "# Transform the data\n",
        "X_train_s = scaler.transform(X_train)\n",
        "X_test_s = scaler.transform(X_test)"
      ]
    },
    {
      "cell_type": "markdown",
      "metadata": {
        "id": "vRR9DAo1uy_Y"
      },
      "source": [
        "# Apartado b\n",
        "\n",
        "Vamos a ajustar una SVM de regresión con kernel polinómico y con kernel RBF explorando los hiperparámetros adecuadamente. Elegiremos adecuadamente el modelo que parezca mejor y usaremos el método de *permutation_importance* sobre el test para determinar qué atributos son más importantes en el modelo para predecir."
      ]
    },
    {
      "cell_type": "code",
      "execution_count": null,
      "metadata": {
        "id": "AiC6ScnI8ux5"
      },
      "outputs": [],
      "source": [
        "def save_results(clf, nclf, X, y, df):\n",
        "    df.loc[nclf,'test_score'] = clf.score(X, y)\n",
        "    df.loc[nclf,'cross_val_score'] = clf.best_score_\n",
        "    return df\n",
        "\n",
        "results_df = pd.DataFrame()\n",
        "\n",
        "niter = 15\n",
        "cv = 5"
      ]
    },
    {
      "cell_type": "markdown",
      "metadata": {
        "id": "9pPixUwZOK5L"
      },
      "source": [
        "## Polynomial kernel\n",
        "\n",
        "Para este kernel vamos a explorar los parámetros *C*, *gamma* y *degree* para ver con que valores de estos obtenemos mejores resultados."
      ]
    },
    {
      "cell_type": "code",
      "execution_count": null,
      "metadata": {
        "id": "b2zvYjTiNrqR"
      },
      "outputs": [],
      "source": [
        "params = {'C': 10**np.linspace(-3,3,50),\n",
        "          'gamma': 10**np.linspace(-9,3,50),\n",
        "          'degree':[2,3]}\n",
        "\n",
        "psvr =  SVR(kernel='poly', max_iter=25000, cache_size=2000)\n",
        "psvr_gs =  GridSearchCV(psvr, params, cv=cv, n_jobs=-1)\n",
        "psvr_gs.fit(X_train_s, y_train);"
      ]
    },
    {
      "cell_type": "code",
      "source": [
        "show_html(pd.DataFrame(psvr_gs.cv_results_).loc[:,['params', 'mean_test_score','rank_test_score']].sort_values(by='rank_test_score').head().to_html())"
      ],
      "metadata": {
        "colab": {
          "base_uri": "https://localhost:8080/",
          "height": 206
        },
        "id": "B8X6H5LseXGW",
        "outputId": "81b159f7-1571-452a-c021-72144d3c6455"
      },
      "execution_count": null,
      "outputs": [
        {
          "output_type": "display_data",
          "data": {
            "text/plain": [
              "<IPython.core.display.HTML object>"
            ],
            "text/html": [
              "<table border=\"1\" class=\"dataframe\">\n",
              "  <thead>\n",
              "    <tr style=\"text-align: right;\">\n",
              "      <th></th>\n",
              "      <th>params</th>\n",
              "      <th>mean_test_score</th>\n",
              "      <th>rank_test_score</th>\n",
              "    </tr>\n",
              "  </thead>\n",
              "  <tbody>\n",
              "    <tr>\n",
              "      <th>389</th>\n",
              "      <td>{'C': 0.002329951810515372, 'degree': 3, 'gamma': 3.556480306223121}</td>\n",
              "      <td>0.837789</td>\n",
              "      <td>1</td>\n",
              "    </tr>\n",
              "    <tr>\n",
              "      <th>2785</th>\n",
              "      <td>{'C': 2.023589647725158, 'degree': 3, 'gamma': 0.3727593720314938}</td>\n",
              "      <td>0.837789</td>\n",
              "      <td>2</td>\n",
              "    </tr>\n",
              "    <tr>\n",
              "      <th>2186</th>\n",
              "      <td>{'C': 0.3727593720314938, 'degree': 3, 'gamma': 0.6551285568595495}</td>\n",
              "      <td>0.837788</td>\n",
              "      <td>3</td>\n",
              "    </tr>\n",
              "    <tr>\n",
              "      <th>988</th>\n",
              "      <td>{'C': 0.012648552168552958, 'degree': 3, 'gamma': 2.0235896477251556}</td>\n",
              "      <td>0.837788</td>\n",
              "      <td>4</td>\n",
              "    </tr>\n",
              "    <tr>\n",
              "      <th>4582</th>\n",
              "      <td>{'C': 323.745754281764, 'degree': 3, 'gamma': 0.06866488450042998}</td>\n",
              "      <td>0.837788</td>\n",
              "      <td>5</td>\n",
              "    </tr>\n",
              "  </tbody>\n",
              "</table>"
            ]
          },
          "metadata": {}
        }
      ]
    },
    {
      "cell_type": "markdown",
      "source": [
        "Podemos ver como los resultados obtenidos son relativamente buenos, y es notable que apenas hay diferencia entre los primeros 5 resultados, el mejor de estos tiene un acierto de 0.8378, más o menos. El mejor de estos, lo hemos obtenido con un valor *C* de 0.002 aproximadamente, 3 como valor de *degree* y una *gamma* igual a, aproximadamente, 3.556."
      ],
      "metadata": {
        "id": "u_CcjCAUeXza"
      }
    },
    {
      "cell_type": "code",
      "source": [
        "psvr_gs_visualizer = prediction_error(psvr_gs.best_estimator_, X_train_s, y_train, X_test_s, y_test);"
      ],
      "metadata": {
        "colab": {
          "base_uri": "https://localhost:8080/",
          "height": 378
        },
        "id": "_hsI-xqpeeQv",
        "outputId": "d8957b4f-67fd-4e05-8269-a540bd86bbba"
      },
      "execution_count": null,
      "outputs": [
        {
          "output_type": "display_data",
          "data": {
            "text/plain": [
              "<Figure size 576x396 with 1 Axes>"
            ],
            "image/png": "[encoded data removed]"
          },
          "metadata": {}
        }
      ]
    },
    {
      "cell_type": "markdown",
      "source": [
        "En este gráfico vemos la representación de las predicciones, teniendo en el eje x los valores reales de los individuos de *X_test* y en el eje y los valores asignados. Como podemos ver las muestras siguen a medias la teórica línea ideal y por eso quedan algo desviadas del comportamiento deseado, en otras palabras, nuestro acierto podría ser algo mejorable. El valor de $R^2$ es 0.751, este valor define, en palabras sencillas, que tan bien los datos se ajustan el modelo."
      ],
      "metadata": {
        "id": "dMr5qSzAeX1x"
      }
    },
    {
      "cell_type": "markdown",
      "source": [
        "Vamos a ir guardando tanto el resultado de acierto en el test como el valor de $R^2$ para poder ir comparando los modelos que vayamos entrenando."
      ],
      "metadata": {
        "id": "cv5NYYsdeX4a"
      }
    },
    {
      "cell_type": "code",
      "source": [],
      "metadata": {
        "colab": {
          "base_uri": "https://localhost:8080/",
          "height": 116
        },
        "id": "vRn_SdGkejmr",
        "outputId": "89515a4f-1b72-4cd4-c737-d82824fe54a4"
      },
      "execution_count": null,
      "outputs": [
        {
          "output_type": "stream",
          "name": "stderr",
          "text": [
            "/usr/local/lib/python3.8/dist-packages/sklearn/base.py:443: UserWarning: X has feature names, but SVR was fitted without feature names\n",
            "  warnings.warn(\n"
          ]
        },
        {
          "output_type": "execute_result",
          "data": {
            "text/plain": [
              "                    test_score  cross_val_score\n",
              "Polynomial kernel -2337.151373         0.837789"
            ],
            "text/html": [
              "\n",
              "  <div id=\"df-bc4e3106-a7c1-4e0f-9380-a0455e29f4f6\">\n",
              "    <div class=\"colab-df-container\">\n",
              "      <div>\n",
              "<style scoped>\n",
              "    .dataframe tbody tr th:only-of-type {\n",
              "        vertical-align: middle;\n",
              "    }\n",
              "\n",
              "    .dataframe tbody tr th {\n",
              "        vertical-align: top;\n",
              "    }\n",
              "\n",
              "    .dataframe thead th {\n",
              "        text-align: right;\n",
              "    }\n",
              "</style>\n",
              "<table border=\"1\" class=\"dataframe\">\n",
              "  <thead>\n",
              "    <tr style=\"text-align: right;\">\n",
              "      <th></th>\n",
              "      <th>test_score</th>\n",
              "      <th>cross_val_score</th>\n",
              "    </tr>\n",
              "  </thead>\n",
              "  <tbody>\n",
              "    <tr>\n",
              "      <th>Polynomial kernel</th>\n",
              "      <td>-2337.151373</td>\n",
              "      <td>0.837789</td>\n",
              "    </tr>\n",
              "  </tbody>\n",
              "</table>\n",
              "</div>\n",
              "      <button class=\"colab-df-convert\" onclick=\"convertToInteractive('df-bc4e3106-a7c1-4e0f-9380-a0455e29f4f6')\"\n",
              "              title=\"Convert this dataframe to an interactive table.\"\n",
              "              style=\"display:none;\">\n",
              "        \n",
              "  <svg xmlns=\"http://www.w3.org/2000/svg\" height=\"24px\"viewBox=\"0 0 24 24\"\n",
              "       width=\"24px\">\n",
              "    <path d=\"M0 0h24v24H0V0z\" fill=\"none\"/>\n",
              "    <path d=\"M18.56 5.44l.94 2.06.94-2.06 2.06-.94-2.06-.94-.94-2.06-.94 2.06-2.06.94zm-11 1L8.5 8.5l.94-2.06 2.06-.94-2.06-.94L8.5 2.5l-.94 2.06-2.06.94zm10 10l.94 2.06.94-2.06 2.06-.94-2.06-.94-.94-2.06-.94 2.06-2.06.94z\"/><path d=\"M17.41 7.96l-1.37-1.37c-.4-.4-.92-.59-1.43-.59-.52 0-1.04.2-1.43.59L10.3 9.45l-7.72 7.72c-.78.78-.78 2.05 0 2.83L4 21.41c.39.39.9.59 1.41.59.51 0 1.02-.2 1.41-.59l7.78-7.78 2.81-2.81c.8-.78.8-2.07 0-2.86zM5.41 20L4 18.59l7.72-7.72 1.47 1.35L5.41 20z\"/>\n",
              "  </svg>\n",
              "      </button>\n",
              "      \n",
              "  <style>\n",
              "    .colab-df-container {\n",
              "      display:flex;\n",
              "      flex-wrap:wrap;\n",
              "      gap: 12px;\n",
              "    }\n",
              "\n",
              "    .colab-df-convert {\n",
              "      background-color: #E8F0FE;\n",
              "      border: none;\n",
              "      border-radius: 50%;\n",
              "      cursor: pointer;\n",
              "      display: none;\n",
              "      fill: #1967D2;\n",
              "      height: 32px;\n",
              "      padding: 0 0 0 0;\n",
              "      width: 32px;\n",
              "    }\n",
              "\n",
              "    .colab-df-convert:hover {\n",
              "      background-color: #E2EBFA;\n",
              "      box-shadow: 0px 1px 2px rgba(60, 64, 67, 0.3), 0px 1px 3px 1px rgba(60, 64, 67, 0.15);\n",
              "      fill: #174EA6;\n",
              "    }\n",
              "\n",
              "    [theme=dark] .colab-df-convert {\n",
              "      background-color: #3B4455;\n",
              "      fill: #D2E3FC;\n",
              "    }\n",
              "\n",
              "    [theme=dark] .colab-df-convert:hover {\n",
              "      background-color: #434B5C;\n",
              "      box-shadow: 0px 1px 3px 1px rgba(0, 0, 0, 0.15);\n",
              "      filter: drop-shadow(0px 1px 2px rgba(0, 0, 0, 0.3));\n",
              "      fill: #FFFFFF;\n",
              "    }\n",
              "  </style>\n",
              "\n",
              "      <script>\n",
              "        const buttonEl =\n",
              "          document.querySelector('#df-bc4e3106-a7c1-4e0f-9380-a0455e29f4f6 button.colab-df-convert');\n",
              "        buttonEl.style.display =\n",
              "          google.colab.kernel.accessAllowed ? 'block' : 'none';\n",
              "\n",
              "        async function convertToInteractive(key) {\n",
              "          const element = document.querySelector('#df-bc4e3106-a7c1-4e0f-9380-a0455e29f4f6');\n",
              "          const dataTable =\n",
              "            await google.colab.kernel.invokeFunction('convertToInteractive',\n",
              "                                                     [key], {});\n",
              "          if (!dataTable) return;\n",
              "\n",
              "          const docLinkHtml = 'Like what you see? Visit the ' +\n",
              "            '<a target=\"_blank\" href=https://colab.research.google.com/notebooks/data_table.ipynb>data table notebook</a>'\n",
              "            + ' to learn more about interactive tables.';\n",
              "          element.innerHTML = '';\n",
              "          dataTable['output_type'] = 'display_data';\n",
              "          await google.colab.output.renderOutput(dataTable, element);\n",
              "          const docLink = document.createElement('div');\n",
              "          docLink.innerHTML = docLinkHtml;\n",
              "          element.appendChild(docLink);\n",
              "        }\n",
              "      </script>\n",
              "    </div>\n",
              "  </div>\n",
              "  "
            ]
          },
          "metadata": {},
          "execution_count": 17
        }
      ]
    },
    {
      "cell_type": "markdown",
      "metadata": {
        "id": "vVZWGT7AN6f8"
      },
      "source": [
        "### RBF kernel\n",
        "\n",
        "Para este kernel vamos a explorar los parámetros *C*, *gamma* y *epsilon* para ver con que valores de estos obtenemos mejores resultados."
      ]
    },
    {
      "cell_type": "code",
      "execution_count": null,
      "metadata": {
        "id": "QrxMUPq_Nr1e"
      },
      "outputs": [],
      "source": [
        "params = {'C':10**np.linspace(-3,3,50),\n",
        "          'gamma':10**np.linspace(-9,3,50), \n",
        "          'epsilon':np.linspace(0,0.01,11)}\n",
        "\n",
        "rbfsvr =  SVR(kernel='rbf', max_iter=25000, cache_size=2000)\n",
        "rbfsvr_gs =  GridSearchCV(rbfsvr, params, cv=cv, n_jobs=-1)\n",
        "rbfsvr_gs.fit(X_train_s, y_train);"
      ]
    },
    {
      "cell_type": "code",
      "source": [
        "show_html(pd.DataFrame(rbfsvr_gs.cv_results_).loc[:,['params', 'mean_test_score','rank_test_score']].sort_values(by='rank_test_score').head().to_html())"
      ],
      "metadata": {
        "colab": {
          "base_uri": "https://localhost:8080/",
          "height": 206
        },
        "id": "rPcGdy3VfgxC",
        "outputId": "1da8480c-9bfc-41b4-d1f5-389db1525d83"
      },
      "execution_count": null,
      "outputs": [
        {
          "output_type": "display_data",
          "data": {
            "text/plain": [
              "<IPython.core.display.HTML object>"
            ],
            "text/html": [
              "<table border=\"1\" class=\"dataframe\">\n",
              "  <thead>\n",
              "    <tr style=\"text-align: right;\">\n",
              "      <th></th>\n",
              "      <th>params</th>\n",
              "      <th>mean_test_score</th>\n",
              "      <th>rank_test_score</th>\n",
              "    </tr>\n",
              "  </thead>\n",
              "  <tbody>\n",
              "    <tr>\n",
              "      <th>24183</th>\n",
              "      <td>{'C': 184.20699693267164, 'epsilon': 0.01, 'gamma': 0.12067926406393265}</td>\n",
              "      <td>0.905104</td>\n",
              "      <td>1</td>\n",
              "    </tr>\n",
              "    <tr>\n",
              "      <th>24133</th>\n",
              "      <td>{'C': 184.20699693267164, 'epsilon': 0.009000000000000001, 'gamma': 0.12067926406393265}</td>\n",
              "      <td>0.905098</td>\n",
              "      <td>2</td>\n",
              "    </tr>\n",
              "    <tr>\n",
              "      <th>24083</th>\n",
              "      <td>{'C': 184.20699693267164, 'epsilon': 0.008, 'gamma': 0.12067926406393265}</td>\n",
              "      <td>0.905093</td>\n",
              "      <td>3</td>\n",
              "    </tr>\n",
              "    <tr>\n",
              "      <th>24033</th>\n",
              "      <td>{'C': 184.20699693267164, 'epsilon': 0.007, 'gamma': 0.12067926406393265}</td>\n",
              "      <td>0.905087</td>\n",
              "      <td>4</td>\n",
              "    </tr>\n",
              "    <tr>\n",
              "      <th>23983</th>\n",
              "      <td>{'C': 184.20699693267164, 'epsilon': 0.006, 'gamma': 0.12067926406393265}</td>\n",
              "      <td>0.905080</td>\n",
              "      <td>5</td>\n",
              "    </tr>\n",
              "  </tbody>\n",
              "</table>"
            ]
          },
          "metadata": {}
        }
      ]
    },
    {
      "cell_type": "markdown",
      "source": [
        "Podemos ver como los resultados son bastante buenos, y es notable que apenas hay diferencia entre los primeros 5 resultados, el mejor de estos tiene un acierto de 0.905, más o menos. El mejor de estos lo hemos obtenido con un valor de *C* igual a 184.21 aproximadamente, cogiendo 0.01 por valor de *epsilon* y *gamma* igual a 0.12 aproximadamente."
      ],
      "metadata": {
        "id": "-uSkZMelfg-B"
      }
    },
    {
      "cell_type": "code",
      "source": [
        "rbfsvr_gs_visualizer = prediction_error(rbfsvr_gs.best_estimator_, X_train_s, y_train, X_test_s, y_test);"
      ],
      "metadata": {
        "colab": {
          "base_uri": "https://localhost:8080/",
          "height": 378
        },
        "id": "HlFdBYHYflzo",
        "outputId": "ddc69336-bb71-4baf-8a3e-f54787eadf20"
      },
      "execution_count": null,
      "outputs": [
        {
          "output_type": "display_data",
          "data": {
            "text/plain": [
              "<Figure size 576x396 with 1 Axes>"
            ],
            "image/png": "[encoded data removed]"
          },
          "metadata": {}
        }
      ]
    },
    {
      "cell_type": "markdown",
      "source": [
        "Como podemos ver sigue razonablemente bien la teórica línea ideal, y más aún si lo comparamos con el mejor modelo obtenido utilizando el kernel polinómico. El valor de $R^2$ es 0.878, este valor define, en palabras sencillas, que tan bien los datos se ajustan el modelo que en nuestro caso es un ajuste moderadamente bueno."
      ],
      "metadata": {
        "id": "oC5YuTbWfhAI"
      }
    },
    {
      "cell_type": "code",
      "source": [
        "results_df = save_results(rbfsvr_gs, 'RBF kernel', rbfsvr_gs.best_score_, rbfsvr_gs_visualizer, results_df)\n",
        "results_df.sort_values(by='test_score', ascending=False)"
      ],
      "metadata": {
        "colab": {
          "base_uri": "https://localhost:8080/",
          "height": 112
        },
        "id": "VmvymI8Kf0Dx",
        "outputId": "8097d1cb-0f6b-490b-b2d8-78416bdbfdc5"
      },
      "execution_count": null,
      "outputs": [
        {
          "output_type": "execute_result",
          "data": {
            "text/plain": [
              "                   test_score  r2_score\n",
              "RBF kernel           0.905104  0.877739\n",
              "Polynomial kernel    0.837789  0.750540"
            ],
            "text/html": [
              "\n",
              "  <div id=\"df-466b22f8-78f9-4d45-9488-659d4e389461\">\n",
              "    <div class=\"colab-df-container\">\n",
              "      <div>\n",
              "<style scoped>\n",
              "    .dataframe tbody tr th:only-of-type {\n",
              "        vertical-align: middle;\n",
              "    }\n",
              "\n",
              "    .dataframe tbody tr th {\n",
              "        vertical-align: top;\n",
              "    }\n",
              "\n",
              "    .dataframe thead th {\n",
              "        text-align: right;\n",
              "    }\n",
              "</style>\n",
              "<table border=\"1\" class=\"dataframe\">\n",
              "  <thead>\n",
              "    <tr style=\"text-align: right;\">\n",
              "      <th></th>\n",
              "      <th>test_score</th>\n",
              "      <th>r2_score</th>\n",
              "    </tr>\n",
              "  </thead>\n",
              "  <tbody>\n",
              "    <tr>\n",
              "      <th>RBF kernel</th>\n",
              "      <td>0.905104</td>\n",
              "      <td>0.877739</td>\n",
              "    </tr>\n",
              "    <tr>\n",
              "      <th>Polynomial kernel</th>\n",
              "      <td>0.837789</td>\n",
              "      <td>0.750540</td>\n",
              "    </tr>\n",
              "  </tbody>\n",
              "</table>\n",
              "</div>\n",
              "      <button class=\"colab-df-convert\" onclick=\"convertToInteractive('df-466b22f8-78f9-4d45-9488-659d4e389461')\"\n",
              "              title=\"Convert this dataframe to an interactive table.\"\n",
              "              style=\"display:none;\">\n",
              "        \n",
              "  <svg xmlns=\"http://www.w3.org/2000/svg\" height=\"24px\"viewBox=\"0 0 24 24\"\n",
              "       width=\"24px\">\n",
              "    <path d=\"M0 0h24v24H0V0z\" fill=\"none\"/>\n",
              "    <path d=\"M18.56 5.44l.94 2.06.94-2.06 2.06-.94-2.06-.94-.94-2.06-.94 2.06-2.06.94zm-11 1L8.5 8.5l.94-2.06 2.06-.94-2.06-.94L8.5 2.5l-.94 2.06-2.06.94zm10 10l.94 2.06.94-2.06 2.06-.94-2.06-.94-.94-2.06-.94 2.06-2.06.94z\"/><path d=\"M17.41 7.96l-1.37-1.37c-.4-.4-.92-.59-1.43-.59-.52 0-1.04.2-1.43.59L10.3 9.45l-7.72 7.72c-.78.78-.78 2.05 0 2.83L4 21.41c.39.39.9.59 1.41.59.51 0 1.02-.2 1.41-.59l7.78-7.78 2.81-2.81c.8-.78.8-2.07 0-2.86zM5.41 20L4 18.59l7.72-7.72 1.47 1.35L5.41 20z\"/>\n",
              "  </svg>\n",
              "      </button>\n",
              "      \n",
              "  <style>\n",
              "    .colab-df-container {\n",
              "      display:flex;\n",
              "      flex-wrap:wrap;\n",
              "      gap: 12px;\n",
              "    }\n",
              "\n",
              "    .colab-df-convert {\n",
              "      background-color: #E8F0FE;\n",
              "      border: none;\n",
              "      border-radius: 50%;\n",
              "      cursor: pointer;\n",
              "      display: none;\n",
              "      fill: #1967D2;\n",
              "      height: 32px;\n",
              "      padding: 0 0 0 0;\n",
              "      width: 32px;\n",
              "    }\n",
              "\n",
              "    .colab-df-convert:hover {\n",
              "      background-color: #E2EBFA;\n",
              "      box-shadow: 0px 1px 2px rgba(60, 64, 67, 0.3), 0px 1px 3px 1px rgba(60, 64, 67, 0.15);\n",
              "      fill: #174EA6;\n",
              "    }\n",
              "\n",
              "    [theme=dark] .colab-df-convert {\n",
              "      background-color: #3B4455;\n",
              "      fill: #D2E3FC;\n",
              "    }\n",
              "\n",
              "    [theme=dark] .colab-df-convert:hover {\n",
              "      background-color: #434B5C;\n",
              "      box-shadow: 0px 1px 3px 1px rgba(0, 0, 0, 0.15);\n",
              "      filter: drop-shadow(0px 1px 2px rgba(0, 0, 0, 0.3));\n",
              "      fill: #FFFFFF;\n",
              "    }\n",
              "  </style>\n",
              "\n",
              "      <script>\n",
              "        const buttonEl =\n",
              "          document.querySelector('#df-466b22f8-78f9-4d45-9488-659d4e389461 button.colab-df-convert');\n",
              "        buttonEl.style.display =\n",
              "          google.colab.kernel.accessAllowed ? 'block' : 'none';\n",
              "\n",
              "        async function convertToInteractive(key) {\n",
              "          const element = document.querySelector('#df-466b22f8-78f9-4d45-9488-659d4e389461');\n",
              "          const dataTable =\n",
              "            await google.colab.kernel.invokeFunction('convertToInteractive',\n",
              "                                                     [key], {});\n",
              "          if (!dataTable) return;\n",
              "\n",
              "          const docLinkHtml = 'Like what you see? Visit the ' +\n",
              "            '<a target=\"_blank\" href=https://colab.research.google.com/notebooks/data_table.ipynb>data table notebook</a>'\n",
              "            + ' to learn more about interactive tables.';\n",
              "          element.innerHTML = '';\n",
              "          dataTable['output_type'] = 'display_data';\n",
              "          await google.colab.output.renderOutput(dataTable, element);\n",
              "          const docLink = document.createElement('div');\n",
              "          docLink.innerHTML = docLinkHtml;\n",
              "          element.appendChild(docLink);\n",
              "        }\n",
              "      </script>\n",
              "    </div>\n",
              "  </div>\n",
              "  "
            ]
          },
          "metadata": {},
          "execution_count": 25
        }
      ]
    },
    {
      "cell_type": "markdown",
      "source": [
        "Tal y como decíamos, este modelo presenta una clara mejora en acierto del conjunto test respecto al visto en la sección anterior. Sin ningún tipo de duda, este segundo modelo sería el escogido para utilizarlo en una aplicación real. Aún así, no deja de ser un acierto que aún tiene un algo de margen de mejora."
      ],
      "metadata": {
        "id": "uA_SFJLRfhCQ"
      }
    },
    {
      "cell_type": "markdown",
      "metadata": {
        "id": "90C2DBltHKa8"
      },
      "source": [
        "## Importancia de los parámetros en el mejor modelo\n",
        "\n",
        "Vamos a ver ahora para el modelo que utiliza el kernel polinómico, ya que ha sido el que mejores resultados nos ha proporcionado, que importancia le da a cada uno de los parámetros a la hora de predecir un valor."
      ]
    },
    {
      "cell_type": "code",
      "source": [
        "result = permutation_importance(rbfsvr_gs, X_test, y_test, n_repeats=10, random_state=1, n_jobs=-1)\n",
        "\n",
        "feature_names = X_test.columns\n",
        "importances = np.sort(result['importances_mean'])[::-1]\n",
        "\n",
        "plt.figure(figsize=(10,6));\n",
        "plt.bar(feature_names, importances);\n",
        "plt.xlabel('features');\n",
        "plt.ylabel('importance');\n",
        "plt.xticks(rotation=90);\n",
        "plt.show();"
      ],
      "metadata": {
        "colab": {
          "base_uri": "https://localhost:8080/",
          "height": 552
        },
        "id": "sK3Kidmmu-CR",
        "outputId": "34126047-7088-46cc-e980-6443030e8560"
      },
      "execution_count": null,
      "outputs": [
        {
          "output_type": "stream",
          "name": "stderr",
          "text": [
            "/usr/local/lib/python3.8/dist-packages/sklearn/base.py:443: UserWarning: X has feature names, but SVR was fitted without feature names\n",
            "  warnings.warn(\n"
          ]
        },
        {
          "output_type": "display_data",
          "data": {
            "text/plain": [
              "<Figure size 720x432 with 1 Axes>"
            ],
            "image/png": "[encoded data removed]"
          },
          "metadata": {}
        }
      ]
    },
    {
      "cell_type": "markdown",
      "source": [
        "A simple vista, destaca claramente el pollo como parámetro decisivo a la hora de hacer predicciones. Algo por detrás, el cerdo y la cebolla, tienen una relevancia también importante, pero no tanto como la primera. Parece ser que sobretodo el pollo es el atributo más decisivo a la hora de tomar una decisión por parte del modelo. Respecto al resto de alimentos, a pesar de seguir aportando al modelo, ninguno destaca sobre el resto."
      ],
      "metadata": {
        "id": "S3A847QXvJ3k"
      }
    },
    {
      "cell_type": "markdown",
      "metadata": {
        "id": "AeKQOhp8u-w4"
      },
      "source": [
        "# Apartado c\n",
        "\n",
        "Vamos a ajustar los modelos random forest y gradient boosting para regresión explorando los hiperparámetros adecuadamente. Elegiremos el mejor modelo entre los dos obtenido y utilizaramos el método permutation importance sobre el test para determinar qué atributos son más importantes en el modelo a la hora de predecir."
      ]
    },
    {
      "cell_type": "markdown",
      "metadata": {
        "id": "NS4NhBfq619M"
      },
      "source": [
        "## Random forest\n",
        "\n",
        "Para el modelo de random forest vamos a explorar los hiperparámetros *max_depth*, *max_features*, *min_samples_leaf* y *n_estimators* para ver con que valores obtenemos mejores resultados."
      ]
    },
    {
      "cell_type": "code",
      "execution_count": null,
      "metadata": {
        "id": "1mw6gGtCDqRG"
      },
      "outputs": [],
      "source": [
        "params = {'max_depth': [None, 1, 2, 5, 10, 20, 30],\n",
        "          'max_features': ['auto', 'sqrt'],\n",
        "          'min_samples_leaf': [1, 2, 3, 5, 10],\n",
        "          'n_estimators': [5, 10, 25, 50, 75, 100, 200, 500, 1000, 2000]}\n",
        "\n",
        "rf =  RandomForestRegressor(random_state=1)\n",
        "\n",
        "rf_gs =  GridSearchCV(rf, params, cv=cv, n_jobs=-1)\n",
        "rf_gs.fit(X_train, y_train);"
      ]
    },
    {
      "cell_type": "code",
      "execution_count": null,
      "metadata": {
        "colab": {
          "base_uri": "https://localhost:8080/",
          "height": 206
        },
        "id": "PWF6mMlh61iH",
        "outputId": "aaa995be-928b-4217-954b-1f33be476c88"
      },
      "outputs": [
        {
          "output_type": "display_data",
          "data": {
            "text/plain": [
              "<IPython.core.display.HTML object>"
            ],
            "text/html": [
              "<table border=\"1\" class=\"dataframe\">\n",
              "  <thead>\n",
              "    <tr style=\"text-align: right;\">\n",
              "      <th></th>\n",
              "      <th>params</th>\n",
              "      <th>mean_test_score</th>\n",
              "      <th>rank_test_score</th>\n",
              "    </tr>\n",
              "  </thead>\n",
              "  <tbody>\n",
              "    <tr>\n",
              "      <th>559</th>\n",
              "      <td>{'max_depth': 20, 'max_features': 'sqrt', 'min_samples_leaf': 1, 'n_estimators': 2000}</td>\n",
              "      <td>0.923671</td>\n",
              "      <td>1</td>\n",
              "    </tr>\n",
              "    <tr>\n",
              "      <th>659</th>\n",
              "      <td>{'max_depth': 30, 'max_features': 'sqrt', 'min_samples_leaf': 1, 'n_estimators': 2000}</td>\n",
              "      <td>0.923670</td>\n",
              "      <td>2</td>\n",
              "    </tr>\n",
              "    <tr>\n",
              "      <th>59</th>\n",
              "      <td>{'max_depth': None, 'max_features': 'sqrt', 'min_samples_leaf': 1, 'n_estimators': 2000}</td>\n",
              "      <td>0.923670</td>\n",
              "      <td>2</td>\n",
              "    </tr>\n",
              "    <tr>\n",
              "      <th>558</th>\n",
              "      <td>{'max_depth': 20, 'max_features': 'sqrt', 'min_samples_leaf': 1, 'n_estimators': 1000}</td>\n",
              "      <td>0.922563</td>\n",
              "      <td>4</td>\n",
              "    </tr>\n",
              "    <tr>\n",
              "      <th>58</th>\n",
              "      <td>{'max_depth': None, 'max_features': 'sqrt', 'min_samples_leaf': 1, 'n_estimators': 1000}</td>\n",
              "      <td>0.922563</td>\n",
              "      <td>5</td>\n",
              "    </tr>\n",
              "  </tbody>\n",
              "</table>"
            ]
          },
          "metadata": {}
        }
      ],
      "source": [
        "show_html(pd.DataFrame(rf_gs.cv_results_).loc[:,['params', 'mean_test_score','rank_test_score']].sort_values(by='rank_test_score').head().to_html())"
      ]
    },
    {
      "cell_type": "markdown",
      "source": [
        "Podemos ver como los resultados son muy buenos, y es notable que apenas hay diferencia entre los primeros 5 resultados, el mejor de estos tiene un acierto de 0.9237, más o menos. El mejor de estos lo hemos obtenido con *max_depth* con valor de 20, *sqrt* como valor de *max_features*, el *min_samples_leaf* a 1 y el valor de *n_estimators* igual a 2000."
      ],
      "metadata": {
        "id": "OmKbi97hacHd"
      }
    },
    {
      "cell_type": "code",
      "execution_count": null,
      "metadata": {
        "id": "IUWZ4oOD_LRh",
        "colab": {
          "base_uri": "https://localhost:8080/",
          "height": 434
        },
        "outputId": "b8bc0cb4-5ca1-4b8f-f27d-78f63616be3b"
      },
      "outputs": [
        {
          "output_type": "stream",
          "name": "stderr",
          "text": [
            "/usr/local/lib/python3.8/dist-packages/sklearn/base.py:450: UserWarning: X does not have valid feature names, but RandomForestRegressor was fitted with feature names\n",
            "  warnings.warn(\n"
          ]
        },
        {
          "output_type": "display_data",
          "data": {
            "text/plain": [
              "<Figure size 576x396 with 1 Axes>"
            ],
            "image/png": "[encoded data removed]"
          },
          "metadata": {}
        }
      ],
      "source": [
        "rf_gs_visualizer = prediction_error(rf_gs.best_estimator_, X_train, y_train, X_test, y_test);"
      ]
    },
    {
      "cell_type": "markdown",
      "metadata": {
        "id": "5Q3P3XtSBE53"
      },
      "source": [
        "En este gráfico vemos la representación de las predicciones, teniendo en el eje x los valores reales de los individuos de *X_test* y en el eje y los valores asignados. Como podemos ver sigue bastante bien la teórica línea ideal, en otras palabras, nuestro acierto es alto. El valor de $R^2$ es 0.933, este valor define, en palabras sencillas, que tan bien los datos se ajustan el modelo."
      ]
    },
    {
      "cell_type": "code",
      "source": [
        "results_df = save_results(rf_gs, 'Random forest', rf_gs.best_score_, rf_gs_visualizer, results_df)\n",
        "results_df.sort_values(by='test_score', ascending=False)"
      ],
      "metadata": {
        "colab": {
          "base_uri": "https://localhost:8080/",
          "height": 143
        },
        "id": "HFEQxR9VEL2h",
        "outputId": "a286fa58-f7e5-41dd-c46f-9cae12b56a09"
      },
      "execution_count": null,
      "outputs": [
        {
          "output_type": "execute_result",
          "data": {
            "text/plain": [
              "                   test_score  r2_score\n",
              "Random forest        0.923671  0.932678\n",
              "RBF kernel           0.905104  0.877739\n",
              "Polynomial kernel    0.837789  0.750540"
            ],
            "text/html": [
              "\n",
              "  <div id=\"df-a9e6ccb8-8bf7-46cb-88e8-da41251db930\">\n",
              "    <div class=\"colab-df-container\">\n",
              "      <div>\n",
              "<style scoped>\n",
              "    .dataframe tbody tr th:only-of-type {\n",
              "        vertical-align: middle;\n",
              "    }\n",
              "\n",
              "    .dataframe tbody tr th {\n",
              "        vertical-align: top;\n",
              "    }\n",
              "\n",
              "    .dataframe thead th {\n",
              "        text-align: right;\n",
              "    }\n",
              "</style>\n",
              "<table border=\"1\" class=\"dataframe\">\n",
              "  <thead>\n",
              "    <tr style=\"text-align: right;\">\n",
              "      <th></th>\n",
              "      <th>test_score</th>\n",
              "      <th>r2_score</th>\n",
              "    </tr>\n",
              "  </thead>\n",
              "  <tbody>\n",
              "    <tr>\n",
              "      <th>Random forest</th>\n",
              "      <td>0.923671</td>\n",
              "      <td>0.932678</td>\n",
              "    </tr>\n",
              "    <tr>\n",
              "      <th>RBF kernel</th>\n",
              "      <td>0.905104</td>\n",
              "      <td>0.877739</td>\n",
              "    </tr>\n",
              "    <tr>\n",
              "      <th>Polynomial kernel</th>\n",
              "      <td>0.837789</td>\n",
              "      <td>0.750540</td>\n",
              "    </tr>\n",
              "  </tbody>\n",
              "</table>\n",
              "</div>\n",
              "      <button class=\"colab-df-convert\" onclick=\"convertToInteractive('df-a9e6ccb8-8bf7-46cb-88e8-da41251db930')\"\n",
              "              title=\"Convert this dataframe to an interactive table.\"\n",
              "              style=\"display:none;\">\n",
              "        \n",
              "  <svg xmlns=\"http://www.w3.org/2000/svg\" height=\"24px\"viewBox=\"0 0 24 24\"\n",
              "       width=\"24px\">\n",
              "    <path d=\"M0 0h24v24H0V0z\" fill=\"none\"/>\n",
              "    <path d=\"M18.56 5.44l.94 2.06.94-2.06 2.06-.94-2.06-.94-.94-2.06-.94 2.06-2.06.94zm-11 1L8.5 8.5l.94-2.06 2.06-.94-2.06-.94L8.5 2.5l-.94 2.06-2.06.94zm10 10l.94 2.06.94-2.06 2.06-.94-2.06-.94-.94-2.06-.94 2.06-2.06.94z\"/><path d=\"M17.41 7.96l-1.37-1.37c-.4-.4-.92-.59-1.43-.59-.52 0-1.04.2-1.43.59L10.3 9.45l-7.72 7.72c-.78.78-.78 2.05 0 2.83L4 21.41c.39.39.9.59 1.41.59.51 0 1.02-.2 1.41-.59l7.78-7.78 2.81-2.81c.8-.78.8-2.07 0-2.86zM5.41 20L4 18.59l7.72-7.72 1.47 1.35L5.41 20z\"/>\n",
              "  </svg>\n",
              "      </button>\n",
              "      \n",
              "  <style>\n",
              "    .colab-df-container {\n",
              "      display:flex;\n",
              "      flex-wrap:wrap;\n",
              "      gap: 12px;\n",
              "    }\n",
              "\n",
              "    .colab-df-convert {\n",
              "      background-color: #E8F0FE;\n",
              "      border: none;\n",
              "      border-radius: 50%;\n",
              "      cursor: pointer;\n",
              "      display: none;\n",
              "      fill: #1967D2;\n",
              "      height: 32px;\n",
              "      padding: 0 0 0 0;\n",
              "      width: 32px;\n",
              "    }\n",
              "\n",
              "    .colab-df-convert:hover {\n",
              "      background-color: #E2EBFA;\n",
              "      box-shadow: 0px 1px 2px rgba(60, 64, 67, 0.3), 0px 1px 3px 1px rgba(60, 64, 67, 0.15);\n",
              "      fill: #174EA6;\n",
              "    }\n",
              "\n",
              "    [theme=dark] .colab-df-convert {\n",
              "      background-color: #3B4455;\n",
              "      fill: #D2E3FC;\n",
              "    }\n",
              "\n",
              "    [theme=dark] .colab-df-convert:hover {\n",
              "      background-color: #434B5C;\n",
              "      box-shadow: 0px 1px 3px 1px rgba(0, 0, 0, 0.15);\n",
              "      filter: drop-shadow(0px 1px 2px rgba(0, 0, 0, 0.3));\n",
              "      fill: #FFFFFF;\n",
              "    }\n",
              "  </style>\n",
              "\n",
              "      <script>\n",
              "        const buttonEl =\n",
              "          document.querySelector('#df-a9e6ccb8-8bf7-46cb-88e8-da41251db930 button.colab-df-convert');\n",
              "        buttonEl.style.display =\n",
              "          google.colab.kernel.accessAllowed ? 'block' : 'none';\n",
              "\n",
              "        async function convertToInteractive(key) {\n",
              "          const element = document.querySelector('#df-a9e6ccb8-8bf7-46cb-88e8-da41251db930');\n",
              "          const dataTable =\n",
              "            await google.colab.kernel.invokeFunction('convertToInteractive',\n",
              "                                                     [key], {});\n",
              "          if (!dataTable) return;\n",
              "\n",
              "          const docLinkHtml = 'Like what you see? Visit the ' +\n",
              "            '<a target=\"_blank\" href=https://colab.research.google.com/notebooks/data_table.ipynb>data table notebook</a>'\n",
              "            + ' to learn more about interactive tables.';\n",
              "          element.innerHTML = '';\n",
              "          dataTable['output_type'] = 'display_data';\n",
              "          await google.colab.output.renderOutput(dataTable, element);\n",
              "          const docLink = document.createElement('div');\n",
              "          docLink.innerHTML = docLinkHtml;\n",
              "          element.appendChild(docLink);\n",
              "        }\n",
              "      </script>\n",
              "    </div>\n",
              "  </div>\n",
              "  "
            ]
          },
          "metadata": {},
          "execution_count": 30
        }
      ]
    },
    {
      "cell_type": "markdown",
      "metadata": {
        "id": "xua7hwWqBGR8"
      },
      "source": [
        "Si comparamos además estos resultados con los obtenidos en el apartado anterior, podemos fijarnos en que los resultados han mejorado algo, sobretodo respecto al primer modelo que vimos. Entre el primer modelo entrenado y el modelo que acabamos de entrenar, podemos ver una mejora de casi 0.1 en el ratio de acierto del conjunto test. Podemos ver también como los valores $R^2$ han ido mejorando acorde a los resultados de los aciertos del test."
      ]
    },
    {
      "cell_type": "markdown",
      "metadata": {
        "id": "9rl8bN3b8H-X"
      },
      "source": [
        "## Gradient boosting\n",
        "\n",
        "Para el modelo de gradient boosting vamos a explorar los hiperparámetros *n_estimators*, *learning_rate*, *max_depth*, *subsample* y *loss* para ver con que valores obtenemos mejores resultados."
      ]
    },
    {
      "cell_type": "code",
      "execution_count": null,
      "metadata": {
        "id": "bUOjmEQ4ExB6"
      },
      "outputs": [],
      "source": [
        "params={'n_estimators':[10, 100, 250, 500, 1000],\n",
        "        'learning_rate':[.001, 0.01, .1, 1],\n",
        "        'max_depth':[1, 2, 5, 10],\n",
        "        'subsample':[.5,.75,1],\n",
        "        'loss':['squared_error', 'absolute_error']}\n",
        "\n",
        "gbr = GradientBoostingRegressor(random_state=1)\n",
        "gbr_gs = GridSearchCV(gbr, params)\n",
        "gbr_gs.fit(X_train, y_train)"
      ]
    },
    {
      "cell_type": "code",
      "execution_count": null,
      "metadata": {
        "colab": {
          "base_uri": "https://localhost:8080/",
          "height": 206
        },
        "id": "EAFC1-4bExEx",
        "outputId": "01fdf3f0-5595-4c97-97ac-b7a6606adf95"
      },
      "outputs": [
        {
          "output_type": "display_data",
          "data": {
            "text/plain": [
              "<IPython.core.display.HTML object>"
            ],
            "text/html": [
              "<table border=\"1\" class=\"dataframe\">\n",
              "  <thead>\n",
              "    <tr style=\"text-align: right;\">\n",
              "      <th></th>\n",
              "      <th>params</th>\n",
              "      <th>mean_test_score</th>\n",
              "      <th>rank_test_score</th>\n",
              "    </tr>\n",
              "  </thead>\n",
              "  <tbody>\n",
              "    <tr>\n",
              "      <th>162</th>\n",
              "      <td>{'learning_rate': 0.01, 'loss': 'squared_error', 'max_depth': 5, 'n_estimators': 1000, 'subsample': 0.5}</td>\n",
              "      <td>0.943369</td>\n",
              "      <td>1</td>\n",
              "    </tr>\n",
              "    <tr>\n",
              "      <th>342</th>\n",
              "      <td>{'learning_rate': 0.1, 'loss': 'absolute_error', 'max_depth': 5, 'n_estimators': 1000, 'subsample': 0.5}</td>\n",
              "      <td>0.941333</td>\n",
              "      <td>2</td>\n",
              "    </tr>\n",
              "    <tr>\n",
              "      <th>339</th>\n",
              "      <td>{'learning_rate': 0.1, 'loss': 'absolute_error', 'max_depth': 5, 'n_estimators': 500, 'subsample': 0.5}</td>\n",
              "      <td>0.938647</td>\n",
              "      <td>3</td>\n",
              "    </tr>\n",
              "    <tr>\n",
              "      <th>238</th>\n",
              "      <td>{'learning_rate': 0.01, 'loss': 'absolute_error', 'max_depth': 10, 'n_estimators': 1000, 'subsample': 0.75}</td>\n",
              "      <td>0.938620</td>\n",
              "      <td>4</td>\n",
              "    </tr>\n",
              "    <tr>\n",
              "      <th>163</th>\n",
              "      <td>{'learning_rate': 0.01, 'loss': 'squared_error', 'max_depth': 5, 'n_estimators': 1000, 'subsample': 0.75}</td>\n",
              "      <td>0.938443</td>\n",
              "      <td>5</td>\n",
              "    </tr>\n",
              "  </tbody>\n",
              "</table>"
            ]
          },
          "metadata": {}
        }
      ],
      "source": [
        "show_html(pd.DataFrame(gbr_gs.cv_results_).loc[:,['params', 'mean_test_score','rank_test_score']].sort_values(by='rank_test_score').head().to_html())"
      ]
    },
    {
      "cell_type": "markdown",
      "source": [
        "Podemos ver como los resultados vuelven a ser bastante buenos, y es notable que no hay diferencia entre los primeros 5 resultados, el mejor de estos tiene un acierto de 0.943, más o menos. El mejor de estos lo hemos obtenido con *learning_rate* igual a 0.01, utilizando la función de perdida *squared_error*, *max_depth* con valor de 5, el número de estimadores igual a 1000 y la variable *subsample* igual a 0.5."
      ],
      "metadata": {
        "id": "mqVhWFh9qLtL"
      }
    },
    {
      "cell_type": "code",
      "source": [
        "gbr_gs_visualizer = prediction_error(gbr_gs.best_estimator_, X_train, y_train, X_test, y_test);"
      ],
      "metadata": {
        "colab": {
          "base_uri": "https://localhost:8080/",
          "height": 434
        },
        "id": "3OVLOCGni4pd",
        "outputId": "df8c47b4-66b1-4512-daf6-a8f82761e04f"
      },
      "execution_count": null,
      "outputs": [
        {
          "output_type": "stream",
          "name": "stderr",
          "text": [
            "/usr/local/lib/python3.8/dist-packages/sklearn/base.py:450: UserWarning: X does not have valid feature names, but GradientBoostingRegressor was fitted with feature names\n",
            "  warnings.warn(\n"
          ]
        },
        {
          "output_type": "display_data",
          "data": {
            "text/plain": [
              "<Figure size 576x396 with 1 Axes>"
            ],
            "image/png": "[encoded data removed]"
          },
          "metadata": {}
        }
      ]
    },
    {
      "cell_type": "markdown",
      "source": [
        "En este gráfico vemos la representación de las predicciones, teniendo en el eje x los valores reales de los individuos de *X_test* y en el eje y los valores asignados. Como podemos ver sigue bastante bien la teórica línea ideal, en otras palabras, nuestro acierto es alto. El valor de $R^2$ es 0.949 (algo mejor que el modelo con random forest), este valor define, en palabras sencillas, que tan bien los datos se ajustan el modelo."
      ],
      "metadata": {
        "id": "0zWGsb6hcWdZ"
      }
    },
    {
      "cell_type": "code",
      "source": [
        "results_df = save_results(gbr_gs, 'Gradient boosting', gbr_gs.best_score_, gbr_gs_visualizer, results_df)\n",
        "results_df.sort_values(by='test_score', ascending=False)"
      ],
      "metadata": {
        "colab": {
          "base_uri": "https://localhost:8080/",
          "height": 175
        },
        "id": "1eIBD_m0i4ei",
        "outputId": "68d2652a-d401-4425-f2bc-b64f3e4cd202"
      },
      "execution_count": null,
      "outputs": [
        {
          "output_type": "execute_result",
          "data": {
            "text/plain": [
              "                   test_score  r2_score\n",
              "Gradient boosting    0.943369  0.949153\n",
              "Random forest        0.923671  0.932678\n",
              "RBF kernel           0.905104  0.877739\n",
              "Polynomial kernel    0.837789  0.750540"
            ],
            "text/html": [
              "\n",
              "  <div id=\"df-11835171-2371-4ba7-8d7f-66c8f69e216e\">\n",
              "    <div class=\"colab-df-container\">\n",
              "      <div>\n",
              "<style scoped>\n",
              "    .dataframe tbody tr th:only-of-type {\n",
              "        vertical-align: middle;\n",
              "    }\n",
              "\n",
              "    .dataframe tbody tr th {\n",
              "        vertical-align: top;\n",
              "    }\n",
              "\n",
              "    .dataframe thead th {\n",
              "        text-align: right;\n",
              "    }\n",
              "</style>\n",
              "<table border=\"1\" class=\"dataframe\">\n",
              "  <thead>\n",
              "    <tr style=\"text-align: right;\">\n",
              "      <th></th>\n",
              "      <th>test_score</th>\n",
              "      <th>r2_score</th>\n",
              "    </tr>\n",
              "  </thead>\n",
              "  <tbody>\n",
              "    <tr>\n",
              "      <th>Gradient boosting</th>\n",
              "      <td>0.943369</td>\n",
              "      <td>0.949153</td>\n",
              "    </tr>\n",
              "    <tr>\n",
              "      <th>Random forest</th>\n",
              "      <td>0.923671</td>\n",
              "      <td>0.932678</td>\n",
              "    </tr>\n",
              "    <tr>\n",
              "      <th>RBF kernel</th>\n",
              "      <td>0.905104</td>\n",
              "      <td>0.877739</td>\n",
              "    </tr>\n",
              "    <tr>\n",
              "      <th>Polynomial kernel</th>\n",
              "      <td>0.837789</td>\n",
              "      <td>0.750540</td>\n",
              "    </tr>\n",
              "  </tbody>\n",
              "</table>\n",
              "</div>\n",
              "      <button class=\"colab-df-convert\" onclick=\"convertToInteractive('df-11835171-2371-4ba7-8d7f-66c8f69e216e')\"\n",
              "              title=\"Convert this dataframe to an interactive table.\"\n",
              "              style=\"display:none;\">\n",
              "        \n",
              "  <svg xmlns=\"http://www.w3.org/2000/svg\" height=\"24px\"viewBox=\"0 0 24 24\"\n",
              "       width=\"24px\">\n",
              "    <path d=\"M0 0h24v24H0V0z\" fill=\"none\"/>\n",
              "    <path d=\"M18.56 5.44l.94 2.06.94-2.06 2.06-.94-2.06-.94-.94-2.06-.94 2.06-2.06.94zm-11 1L8.5 8.5l.94-2.06 2.06-.94-2.06-.94L8.5 2.5l-.94 2.06-2.06.94zm10 10l.94 2.06.94-2.06 2.06-.94-2.06-.94-.94-2.06-.94 2.06-2.06.94z\"/><path d=\"M17.41 7.96l-1.37-1.37c-.4-.4-.92-.59-1.43-.59-.52 0-1.04.2-1.43.59L10.3 9.45l-7.72 7.72c-.78.78-.78 2.05 0 2.83L4 21.41c.39.39.9.59 1.41.59.51 0 1.02-.2 1.41-.59l7.78-7.78 2.81-2.81c.8-.78.8-2.07 0-2.86zM5.41 20L4 18.59l7.72-7.72 1.47 1.35L5.41 20z\"/>\n",
              "  </svg>\n",
              "      </button>\n",
              "      \n",
              "  <style>\n",
              "    .colab-df-container {\n",
              "      display:flex;\n",
              "      flex-wrap:wrap;\n",
              "      gap: 12px;\n",
              "    }\n",
              "\n",
              "    .colab-df-convert {\n",
              "      background-color: #E8F0FE;\n",
              "      border: none;\n",
              "      border-radius: 50%;\n",
              "      cursor: pointer;\n",
              "      display: none;\n",
              "      fill: #1967D2;\n",
              "      height: 32px;\n",
              "      padding: 0 0 0 0;\n",
              "      width: 32px;\n",
              "    }\n",
              "\n",
              "    .colab-df-convert:hover {\n",
              "      background-color: #E2EBFA;\n",
              "      box-shadow: 0px 1px 2px rgba(60, 64, 67, 0.3), 0px 1px 3px 1px rgba(60, 64, 67, 0.15);\n",
              "      fill: #174EA6;\n",
              "    }\n",
              "\n",
              "    [theme=dark] .colab-df-convert {\n",
              "      background-color: #3B4455;\n",
              "      fill: #D2E3FC;\n",
              "    }\n",
              "\n",
              "    [theme=dark] .colab-df-convert:hover {\n",
              "      background-color: #434B5C;\n",
              "      box-shadow: 0px 1px 3px 1px rgba(0, 0, 0, 0.15);\n",
              "      filter: drop-shadow(0px 1px 2px rgba(0, 0, 0, 0.3));\n",
              "      fill: #FFFFFF;\n",
              "    }\n",
              "  </style>\n",
              "\n",
              "      <script>\n",
              "        const buttonEl =\n",
              "          document.querySelector('#df-11835171-2371-4ba7-8d7f-66c8f69e216e button.colab-df-convert');\n",
              "        buttonEl.style.display =\n",
              "          google.colab.kernel.accessAllowed ? 'block' : 'none';\n",
              "\n",
              "        async function convertToInteractive(key) {\n",
              "          const element = document.querySelector('#df-11835171-2371-4ba7-8d7f-66c8f69e216e');\n",
              "          const dataTable =\n",
              "            await google.colab.kernel.invokeFunction('convertToInteractive',\n",
              "                                                     [key], {});\n",
              "          if (!dataTable) return;\n",
              "\n",
              "          const docLinkHtml = 'Like what you see? Visit the ' +\n",
              "            '<a target=\"_blank\" href=https://colab.research.google.com/notebooks/data_table.ipynb>data table notebook</a>'\n",
              "            + ' to learn more about interactive tables.';\n",
              "          element.innerHTML = '';\n",
              "          dataTable['output_type'] = 'display_data';\n",
              "          await google.colab.output.renderOutput(dataTable, element);\n",
              "          const docLink = document.createElement('div');\n",
              "          docLink.innerHTML = docLinkHtml;\n",
              "          element.appendChild(docLink);\n",
              "        }\n",
              "      </script>\n",
              "    </div>\n",
              "  </div>\n",
              "  "
            ]
          },
          "metadata": {},
          "execution_count": 33
        }
      ]
    },
    {
      "cell_type": "markdown",
      "source": [
        "Este modelo ha mejorado incluso aún más al modelo que habíamos entrenado utilizando random forest. Estos dos últimos modelos son mucho mejores que los entrenados en el apartado b, tal y como se ve claramente en los resultados de arriba. Si tuviéramos que elegir uno entre estos cuatro, nos quedaríamos con el modelo que utiliza gradient boosting por su gran porcentaje de acierto."
      ],
      "metadata": {
        "id": "ZnUejq66qSST"
      }
    },
    {
      "cell_type": "markdown",
      "source": [
        "## Importancia de los parámetros en el mejor modelo\n",
        "\n",
        "Vamos a ver ahora para el modelo que utiliza gradient boosting, ya que ha sido el que mejores resultados nos ha proporcionado, que importancia le da a cada uno de los parámetros a la hora de predecir un valor."
      ],
      "metadata": {
        "id": "AoAvM1NVqXyG"
      }
    },
    {
      "cell_type": "code",
      "source": [
        "result = permutation_importance(gbr_gs, X_test, y_test, n_repeats=10, random_state=1, n_jobs=-1)\n",
        "\n",
        "feature_names = X_test.columns\n",
        "importances = np.sort(result['importances_mean'])[::-1]\n",
        "\n",
        "plt.figure(figsize=(10,6));\n",
        "plt.bar(feature_names, importances);\n",
        "plt.xlabel('features');\n",
        "plt.ylabel('importance');\n",
        "plt.xticks(rotation=90);\n",
        "plt.show();"
      ],
      "metadata": {
        "colab": {
          "base_uri": "https://localhost:8080/",
          "height": 505
        },
        "id": "Nh2SrAmpi6d-",
        "outputId": "540061d5-1064-4d4f-aea6-d33428c94bf6"
      },
      "execution_count": null,
      "outputs": [
        {
          "output_type": "display_data",
          "data": {
            "text/plain": [
              "<Figure size 720x432 with 1 Axes>"
            ],
            "image/png": "[encoded data removed]"
          },
          "metadata": {}
        }
      ]
    },
    {
      "cell_type": "markdown",
      "source": [
        "Podemos ver como la carne sigue teniendo claramente una relevancia clave a la hora de predecir los valores, pero esta vez, tanto el pollo como el cerdo, han ganado gran importancia también. El resto de parámetros, parecen no ser muy relevantes, comparados a los tres mencionados, que son claramente los 3 que definirán la predicción de nuestro modelo."
      ],
      "metadata": {
        "id": "a5DpveXiqcLk"
      }
    },
    {
      "cell_type": "markdown",
      "metadata": {
        "id": "nEkMZmQlvvfR"
      },
      "source": [
        "# Apartado d\n",
        "\n",
        "Como hemos visto en teoría cuando tenemos modelos diferentes podemos combinarlos\n",
        "usando diferentes estrategias. Entrena un StackedRegressor y un VotingRegressor\n",
        "usando los dos mejores modelos que has encontrado en los apartados anteriores con sus mejores hiperparámetros."
      ]
    },
    {
      "cell_type": "markdown",
      "metadata": {
        "id": "EgJQbtrgMYMI"
      },
      "source": [
        "## StackedRegressor\n",
        "\n",
        "Para este modelo, vamos a combinar el modelo entrenado con gradient boosting y el modelo entrenado con random forest."
      ]
    },
    {
      "cell_type": "code",
      "execution_count": null,
      "metadata": {
        "id": "jkNVlPVQyfbU"
      },
      "outputs": [],
      "source": [
        "st_r = StackingRegressor([('rf', rf_gs.best_estimator_),\n",
        "                          ('gbr', gbr_gs.best_estimator_)],\n",
        "                          cv=cv, n_jobs=-1)\n",
        "                             \n",
        "st_r.fit(X_train, y_train);  "
      ]
    },
    {
      "cell_type": "code",
      "source": [
        "str_visualizer = prediction_error(st_r, X_train, y_train, X_test, y_test);"
      ],
      "metadata": {
        "colab": {
          "base_uri": "https://localhost:8080/",
          "height": 434
        },
        "id": "6TYbQ_oX1q8X",
        "outputId": "551dcf89-4cca-48e8-90f4-a6d370d2d289"
      },
      "execution_count": null,
      "outputs": [
        {
          "output_type": "stream",
          "name": "stderr",
          "text": [
            "/usr/local/lib/python3.8/dist-packages/sklearn/base.py:450: UserWarning: X does not have valid feature names, but RandomForestRegressor was fitted with feature names\n",
            "  warnings.warn(\n"
          ]
        },
        {
          "output_type": "display_data",
          "data": {
            "text/plain": [
              "<Figure size 576x396 with 1 Axes>"
            ],
            "image/png": "[encoded data removed]"
          },
          "metadata": {}
        }
      ]
    },
    {
      "cell_type": "markdown",
      "source": [
        "En este gráfico vemos la representación de las predicciones, teniendo en el eje x los valores reales de los individuos de *X_test* y en el eje y los valores asignados. Como podemos ver sigue bastante bien la teórica línea ideal, en otras palabras, nuestro acierto es alto. El valor de $R^2$ es 0.954 (algo mejor que los mejores modelos vistos hasta ahora), este valor define, en palabras sencillas, que tan bien los datos se ajustan el modelo."
      ],
      "metadata": {
        "id": "lEPFKB3H9gwo"
      }
    },
    {
      "cell_type": "code",
      "source": [
        "results_df = save_results(st_r, 'Stacking regressor', st_r.score(X_test, y_test), str_visualizer, results_df)\n",
        "results_df.sort_values(by='test_score', ascending=False)"
      ],
      "metadata": {
        "colab": {
          "base_uri": "https://localhost:8080/",
          "height": 206
        },
        "id": "1raUmghc1dqw",
        "outputId": "3cc23da0-1bd8-4226-8f13-15f1bf19960e"
      },
      "execution_count": null,
      "outputs": [
        {
          "output_type": "execute_result",
          "data": {
            "text/plain": [
              "                    test_score  r2_score\n",
              "Stacking regressor    0.954340  0.954340\n",
              "Gradient boosting     0.943369  0.949153\n",
              "Random forest         0.923671  0.932678\n",
              "RBF kernel            0.905104  0.877739\n",
              "Polynomial kernel     0.837789  0.750540"
            ],
            "text/html": [
              "\n",
              "  <div id=\"df-961cc6b6-ec0f-4e1f-8aa3-6f7882ba0053\">\n",
              "    <div class=\"colab-df-container\">\n",
              "      <div>\n",
              "<style scoped>\n",
              "    .dataframe tbody tr th:only-of-type {\n",
              "        vertical-align: middle;\n",
              "    }\n",
              "\n",
              "    .dataframe tbody tr th {\n",
              "        vertical-align: top;\n",
              "    }\n",
              "\n",
              "    .dataframe thead th {\n",
              "        text-align: right;\n",
              "    }\n",
              "</style>\n",
              "<table border=\"1\" class=\"dataframe\">\n",
              "  <thead>\n",
              "    <tr style=\"text-align: right;\">\n",
              "      <th></th>\n",
              "      <th>test_score</th>\n",
              "      <th>r2_score</th>\n",
              "    </tr>\n",
              "  </thead>\n",
              "  <tbody>\n",
              "    <tr>\n",
              "      <th>Stacking regressor</th>\n",
              "      <td>0.954340</td>\n",
              "      <td>0.954340</td>\n",
              "    </tr>\n",
              "    <tr>\n",
              "      <th>Gradient boosting</th>\n",
              "      <td>0.943369</td>\n",
              "      <td>0.949153</td>\n",
              "    </tr>\n",
              "    <tr>\n",
              "      <th>Random forest</th>\n",
              "      <td>0.923671</td>\n",
              "      <td>0.932678</td>\n",
              "    </tr>\n",
              "    <tr>\n",
              "      <th>RBF kernel</th>\n",
              "      <td>0.905104</td>\n",
              "      <td>0.877739</td>\n",
              "    </tr>\n",
              "    <tr>\n",
              "      <th>Polynomial kernel</th>\n",
              "      <td>0.837789</td>\n",
              "      <td>0.750540</td>\n",
              "    </tr>\n",
              "  </tbody>\n",
              "</table>\n",
              "</div>\n",
              "      <button class=\"colab-df-convert\" onclick=\"convertToInteractive('df-961cc6b6-ec0f-4e1f-8aa3-6f7882ba0053')\"\n",
              "              title=\"Convert this dataframe to an interactive table.\"\n",
              "              style=\"display:none;\">\n",
              "        \n",
              "  <svg xmlns=\"http://www.w3.org/2000/svg\" height=\"24px\"viewBox=\"0 0 24 24\"\n",
              "       width=\"24px\">\n",
              "    <path d=\"M0 0h24v24H0V0z\" fill=\"none\"/>\n",
              "    <path d=\"M18.56 5.44l.94 2.06.94-2.06 2.06-.94-2.06-.94-.94-2.06-.94 2.06-2.06.94zm-11 1L8.5 8.5l.94-2.06 2.06-.94-2.06-.94L8.5 2.5l-.94 2.06-2.06.94zm10 10l.94 2.06.94-2.06 2.06-.94-2.06-.94-.94-2.06-.94 2.06-2.06.94z\"/><path d=\"M17.41 7.96l-1.37-1.37c-.4-.4-.92-.59-1.43-.59-.52 0-1.04.2-1.43.59L10.3 9.45l-7.72 7.72c-.78.78-.78 2.05 0 2.83L4 21.41c.39.39.9.59 1.41.59.51 0 1.02-.2 1.41-.59l7.78-7.78 2.81-2.81c.8-.78.8-2.07 0-2.86zM5.41 20L4 18.59l7.72-7.72 1.47 1.35L5.41 20z\"/>\n",
              "  </svg>\n",
              "      </button>\n",
              "      \n",
              "  <style>\n",
              "    .colab-df-container {\n",
              "      display:flex;\n",
              "      flex-wrap:wrap;\n",
              "      gap: 12px;\n",
              "    }\n",
              "\n",
              "    .colab-df-convert {\n",
              "      background-color: #E8F0FE;\n",
              "      border: none;\n",
              "      border-radius: 50%;\n",
              "      cursor: pointer;\n",
              "      display: none;\n",
              "      fill: #1967D2;\n",
              "      height: 32px;\n",
              "      padding: 0 0 0 0;\n",
              "      width: 32px;\n",
              "    }\n",
              "\n",
              "    .colab-df-convert:hover {\n",
              "      background-color: #E2EBFA;\n",
              "      box-shadow: 0px 1px 2px rgba(60, 64, 67, 0.3), 0px 1px 3px 1px rgba(60, 64, 67, 0.15);\n",
              "      fill: #174EA6;\n",
              "    }\n",
              "\n",
              "    [theme=dark] .colab-df-convert {\n",
              "      background-color: #3B4455;\n",
              "      fill: #D2E3FC;\n",
              "    }\n",
              "\n",
              "    [theme=dark] .colab-df-convert:hover {\n",
              "      background-color: #434B5C;\n",
              "      box-shadow: 0px 1px 3px 1px rgba(0, 0, 0, 0.15);\n",
              "      filter: drop-shadow(0px 1px 2px rgba(0, 0, 0, 0.3));\n",
              "      fill: #FFFFFF;\n",
              "    }\n",
              "  </style>\n",
              "\n",
              "      <script>\n",
              "        const buttonEl =\n",
              "          document.querySelector('#df-961cc6b6-ec0f-4e1f-8aa3-6f7882ba0053 button.colab-df-convert');\n",
              "        buttonEl.style.display =\n",
              "          google.colab.kernel.accessAllowed ? 'block' : 'none';\n",
              "\n",
              "        async function convertToInteractive(key) {\n",
              "          const element = document.querySelector('#df-961cc6b6-ec0f-4e1f-8aa3-6f7882ba0053');\n",
              "          const dataTable =\n",
              "            await google.colab.kernel.invokeFunction('convertToInteractive',\n",
              "                                                     [key], {});\n",
              "          if (!dataTable) return;\n",
              "\n",
              "          const docLinkHtml = 'Like what you see? Visit the ' +\n",
              "            '<a target=\"_blank\" href=https://colab.research.google.com/notebooks/data_table.ipynb>data table notebook</a>'\n",
              "            + ' to learn more about interactive tables.';\n",
              "          element.innerHTML = '';\n",
              "          dataTable['output_type'] = 'display_data';\n",
              "          await google.colab.output.renderOutput(dataTable, element);\n",
              "          const docLink = document.createElement('div');\n",
              "          docLink.innerHTML = docLinkHtml;\n",
              "          element.appendChild(docLink);\n",
              "        }\n",
              "      </script>\n",
              "    </div>\n",
              "  </div>\n",
              "  "
            ]
          },
          "metadata": {},
          "execution_count": 36
        }
      ]
    },
    {
      "cell_type": "markdown",
      "source": [
        "El modelo de stacking regressor, que combina el gradient boosting y el randon forest, ha obtenido el mejor de los resultados vistos hasta ahora. La mejora ha sido de 0.01 en el ratio de acierto del conjunto test, dado el cada vez más pequeño margen de mejora que tenemos, es una notable mejora."
      ],
      "metadata": {
        "id": "VHQC_-vy8Y_s"
      }
    },
    {
      "cell_type": "markdown",
      "source": [
        "## Importancia de los parámetros\n",
        "\n",
        "Vamos a ver ahora para el modelo entrenado, que importancia le da a cada uno de los parámetros a la hora de predecir un valor."
      ],
      "metadata": {
        "id": "NNgopjjC1z5r"
      }
    },
    {
      "cell_type": "code",
      "source": [
        "result = permutation_importance(st_r, X_test, y_test, n_repeats=10, random_state=1, n_jobs=-1)\n",
        "\n",
        "feature_names = X_test.columns\n",
        "importances = np.sort(result['importances_mean'])[::-1]\n",
        "\n",
        "plt.figure(figsize=(10,6));\n",
        "plt.bar(feature_names, importances);\n",
        "plt.xlabel('features');\n",
        "plt.ylabel('importance');\n",
        "plt.xticks(rotation=90);\n",
        "plt.show();"
      ],
      "metadata": {
        "colab": {
          "base_uri": "https://localhost:8080/",
          "height": 561
        },
        "id": "A_sfQxwn1z-Y",
        "outputId": "5121f8f7-9d3b-4a9e-a65e-09bcfdc2a250"
      },
      "execution_count": null,
      "outputs": [
        {
          "output_type": "stream",
          "name": "stderr",
          "text": [
            "/usr/local/lib/python3.8/dist-packages/joblib/externals/loky/process_executor.py:700: UserWarning: A worker stopped while some jobs were given to the executor. This can be caused by a too short worker timeout or by a memory leak.\n",
            "  warnings.warn(\n"
          ]
        },
        {
          "output_type": "display_data",
          "data": {
            "text/plain": [
              "<Figure size 720x432 with 1 Axes>"
            ],
            "image/png": "[encoded data removed]"
          },
          "metadata": {}
        }
      ]
    },
    {
      "cell_type": "markdown",
      "source": [
        "La importancia que se le da a las distintas variables no ha cambiado respecto a otros modelos. Los productos cárnicos y la cebolla siguen siendo claramente los que definirán en mayor medida las predicciones hechas por el modelo."
      ],
      "metadata": {
        "id": "G7e3KxTk10FK"
      }
    },
    {
      "cell_type": "markdown",
      "metadata": {
        "id": "9Dd-ltwqMaVu"
      },
      "source": [
        "## VotingRegressor\n",
        "\n",
        "Para este modelo, vamos a combinar el modelo entrenado con gradient boosting y el modelo entrenado con random forest."
      ]
    },
    {
      "cell_type": "code",
      "execution_count": null,
      "metadata": {
        "id": "jaYV7kS2MabN"
      },
      "outputs": [],
      "source": [
        "vt_r = VotingRegressor([('rf', rf_gs.best_estimator_), ('gbr', gbr_gs.best_estimator_)],\n",
        "                       n_jobs=-1)\n",
        "                             \n",
        "vt_r.fit(X_train, y_train);  "
      ]
    },
    {
      "cell_type": "code",
      "source": [
        "vtr_visualizer = prediction_error(vt_r, X_train, y_train, X_test, y_test);"
      ],
      "metadata": {
        "colab": {
          "base_uri": "https://localhost:8080/",
          "height": 434
        },
        "id": "0ZGaM_a3-DGo",
        "outputId": "97b93687-17bf-4d4c-c631-972b68d62807"
      },
      "execution_count": null,
      "outputs": [
        {
          "output_type": "stream",
          "name": "stderr",
          "text": [
            "/usr/local/lib/python3.8/dist-packages/sklearn/base.py:450: UserWarning: X does not have valid feature names, but RandomForestRegressor was fitted with feature names\n",
            "  warnings.warn(\n"
          ]
        },
        {
          "output_type": "display_data",
          "data": {
            "text/plain": [
              "<Figure size 576x396 with 1 Axes>"
            ],
            "image/png": "[encoded data removed]"
          },
          "metadata": {}
        }
      ]
    },
    {
      "cell_type": "markdown",
      "source": [
        "En este gráfico vemos la representación de las predicciones, teniendo en el eje x los valores reales de los individuos de *X_test* y en el eje y los valores asignados. Como podemos ver sigue bastante bien la teórica línea ideal, en otras palabras, nuestro acierto es alto. El valor de $R^2$ es 0.943 (algo mejor que los mejores modelos vistos hasta ahora pero no el mejor), este valor define, en palabras sencillas, que tan bien los datos se ajustan el modelo."
      ],
      "metadata": {
        "id": "qoncGg6Z-DWO"
      }
    },
    {
      "cell_type": "code",
      "source": [
        "results_df = save_results(vt_r, 'Voting regressor', vt_r.score(X_test, y_test), vtr_visualizer, results_df)\n",
        "results_df.sort_values(by='test_score', ascending=False)"
      ],
      "metadata": {
        "colab": {
          "base_uri": "https://localhost:8080/",
          "height": 238
        },
        "id": "idPPm7zI-DnM",
        "outputId": "60c7ec9d-2a60-4378-8a83-59f34c889c32"
      },
      "execution_count": null,
      "outputs": [
        {
          "output_type": "execute_result",
          "data": {
            "text/plain": [
              "                    test_score  r2_score\n",
              "Stacking regressor    0.954340  0.954340\n",
              "Gradient boosting     0.943369  0.949153\n",
              "Voting regressor      0.942978  0.942978\n",
              "Random forest         0.923671  0.932678\n",
              "RBF kernel            0.905104  0.877739\n",
              "Polynomial kernel     0.837789  0.750540"
            ],
            "text/html": [
              "\n",
              "  <div id=\"df-f17ebf49-79d2-4c3c-bbe8-3cc492c68fcd\">\n",
              "    <div class=\"colab-df-container\">\n",
              "      <div>\n",
              "<style scoped>\n",
              "    .dataframe tbody tr th:only-of-type {\n",
              "        vertical-align: middle;\n",
              "    }\n",
              "\n",
              "    .dataframe tbody tr th {\n",
              "        vertical-align: top;\n",
              "    }\n",
              "\n",
              "    .dataframe thead th {\n",
              "        text-align: right;\n",
              "    }\n",
              "</style>\n",
              "<table border=\"1\" class=\"dataframe\">\n",
              "  <thead>\n",
              "    <tr style=\"text-align: right;\">\n",
              "      <th></th>\n",
              "      <th>test_score</th>\n",
              "      <th>r2_score</th>\n",
              "    </tr>\n",
              "  </thead>\n",
              "  <tbody>\n",
              "    <tr>\n",
              "      <th>Stacking regressor</th>\n",
              "      <td>0.954340</td>\n",
              "      <td>0.954340</td>\n",
              "    </tr>\n",
              "    <tr>\n",
              "      <th>Gradient boosting</th>\n",
              "      <td>0.943369</td>\n",
              "      <td>0.949153</td>\n",
              "    </tr>\n",
              "    <tr>\n",
              "      <th>Voting regressor</th>\n",
              "      <td>0.942978</td>\n",
              "      <td>0.942978</td>\n",
              "    </tr>\n",
              "    <tr>\n",
              "      <th>Random forest</th>\n",
              "      <td>0.923671</td>\n",
              "      <td>0.932678</td>\n",
              "    </tr>\n",
              "    <tr>\n",
              "      <th>RBF kernel</th>\n",
              "      <td>0.905104</td>\n",
              "      <td>0.877739</td>\n",
              "    </tr>\n",
              "    <tr>\n",
              "      <th>Polynomial kernel</th>\n",
              "      <td>0.837789</td>\n",
              "      <td>0.750540</td>\n",
              "    </tr>\n",
              "  </tbody>\n",
              "</table>\n",
              "</div>\n",
              "      <button class=\"colab-df-convert\" onclick=\"convertToInteractive('df-f17ebf49-79d2-4c3c-bbe8-3cc492c68fcd')\"\n",
              "              title=\"Convert this dataframe to an interactive table.\"\n",
              "              style=\"display:none;\">\n",
              "        \n",
              "  <svg xmlns=\"http://www.w3.org/2000/svg\" height=\"24px\"viewBox=\"0 0 24 24\"\n",
              "       width=\"24px\">\n",
              "    <path d=\"M0 0h24v24H0V0z\" fill=\"none\"/>\n",
              "    <path d=\"M18.56 5.44l.94 2.06.94-2.06 2.06-.94-2.06-.94-.94-2.06-.94 2.06-2.06.94zm-11 1L8.5 8.5l.94-2.06 2.06-.94-2.06-.94L8.5 2.5l-.94 2.06-2.06.94zm10 10l.94 2.06.94-2.06 2.06-.94-2.06-.94-.94-2.06-.94 2.06-2.06.94z\"/><path d=\"M17.41 7.96l-1.37-1.37c-.4-.4-.92-.59-1.43-.59-.52 0-1.04.2-1.43.59L10.3 9.45l-7.72 7.72c-.78.78-.78 2.05 0 2.83L4 21.41c.39.39.9.59 1.41.59.51 0 1.02-.2 1.41-.59l7.78-7.78 2.81-2.81c.8-.78.8-2.07 0-2.86zM5.41 20L4 18.59l7.72-7.72 1.47 1.35L5.41 20z\"/>\n",
              "  </svg>\n",
              "      </button>\n",
              "      \n",
              "  <style>\n",
              "    .colab-df-container {\n",
              "      display:flex;\n",
              "      flex-wrap:wrap;\n",
              "      gap: 12px;\n",
              "    }\n",
              "\n",
              "    .colab-df-convert {\n",
              "      background-color: #E8F0FE;\n",
              "      border: none;\n",
              "      border-radius: 50%;\n",
              "      cursor: pointer;\n",
              "      display: none;\n",
              "      fill: #1967D2;\n",
              "      height: 32px;\n",
              "      padding: 0 0 0 0;\n",
              "      width: 32px;\n",
              "    }\n",
              "\n",
              "    .colab-df-convert:hover {\n",
              "      background-color: #E2EBFA;\n",
              "      box-shadow: 0px 1px 2px rgba(60, 64, 67, 0.3), 0px 1px 3px 1px rgba(60, 64, 67, 0.15);\n",
              "      fill: #174EA6;\n",
              "    }\n",
              "\n",
              "    [theme=dark] .colab-df-convert {\n",
              "      background-color: #3B4455;\n",
              "      fill: #D2E3FC;\n",
              "    }\n",
              "\n",
              "    [theme=dark] .colab-df-convert:hover {\n",
              "      background-color: #434B5C;\n",
              "      box-shadow: 0px 1px 3px 1px rgba(0, 0, 0, 0.15);\n",
              "      filter: drop-shadow(0px 1px 2px rgba(0, 0, 0, 0.3));\n",
              "      fill: #FFFFFF;\n",
              "    }\n",
              "  </style>\n",
              "\n",
              "      <script>\n",
              "        const buttonEl =\n",
              "          document.querySelector('#df-f17ebf49-79d2-4c3c-bbe8-3cc492c68fcd button.colab-df-convert');\n",
              "        buttonEl.style.display =\n",
              "          google.colab.kernel.accessAllowed ? 'block' : 'none';\n",
              "\n",
              "        async function convertToInteractive(key) {\n",
              "          const element = document.querySelector('#df-f17ebf49-79d2-4c3c-bbe8-3cc492c68fcd');\n",
              "          const dataTable =\n",
              "            await google.colab.kernel.invokeFunction('convertToInteractive',\n",
              "                                                     [key], {});\n",
              "          if (!dataTable) return;\n",
              "\n",
              "          const docLinkHtml = 'Like what you see? Visit the ' +\n",
              "            '<a target=\"_blank\" href=https://colab.research.google.com/notebooks/data_table.ipynb>data table notebook</a>'\n",
              "            + ' to learn more about interactive tables.';\n",
              "          element.innerHTML = '';\n",
              "          dataTable['output_type'] = 'display_data';\n",
              "          await google.colab.output.renderOutput(dataTable, element);\n",
              "          const docLink = document.createElement('div');\n",
              "          docLink.innerHTML = docLinkHtml;\n",
              "          element.appendChild(docLink);\n",
              "        }\n",
              "      </script>\n",
              "    </div>\n",
              "  </div>\n",
              "  "
            ]
          },
          "metadata": {},
          "execution_count": 40
        }
      ]
    },
    {
      "cell_type": "markdown",
      "source": [
        "Tal y como veíamos, este modelo es bastante bueno pero no el mejor de los que hemos visto. El modelo de stacking regressor es el mejor modelo en cuanto a acierto del conjunto test con un acierto de más del 0.95, un muy buen modelo."
      ],
      "metadata": {
        "id": "RshT1HgV-Dtt"
      }
    },
    {
      "cell_type": "markdown",
      "source": [
        "## Importancia de los parámetros\n",
        "\n",
        "Vamos a ver ahora para el modelo entrenado, que importancia le da a cada uno de los parámetros a la hora de predecir un valor."
      ],
      "metadata": {
        "id": "l-IPbZ04-OIo"
      }
    },
    {
      "cell_type": "code",
      "source": [
        "result = permutation_importance(vt_r, X_test, y_test, n_repeats=10, random_state=1, n_jobs=-1)\n",
        "\n",
        "feature_names = X_test.columns\n",
        "importances = np.sort(result['importances_mean'])[::-1]\n",
        "\n",
        "plt.figure(figsize=(10,6));\n",
        "plt.bar(feature_names, importances);\n",
        "plt.xlabel('features');\n",
        "plt.ylabel('importance');\n",
        "plt.xticks(rotation=90);\n",
        "plt.show();"
      ],
      "metadata": {
        "colab": {
          "base_uri": "https://localhost:8080/",
          "height": 505
        },
        "id": "_zYWMMQV-Dzs",
        "outputId": "13d37cce-c323-410a-f43e-e91a51946f5d"
      },
      "execution_count": null,
      "outputs": [
        {
          "output_type": "display_data",
          "data": {
            "text/plain": [
              "<Figure size 720x432 with 1 Axes>"
            ],
            "image/png": "[encoded data removed]"
          },
          "metadata": {}
        }
      ]
    },
    {
      "cell_type": "markdown",
      "source": [
        "La importancia que se le da a las distintas variables no ha cambiado respecto a otros modelos. Los productos cárnicos y la cebolla siguen siendo claramente los que definirán en mayor medida las predicciones hechas por el modelo."
      ],
      "metadata": {
        "id": "biXGbDTk-D5q"
      }
    }
  ],
  "metadata": {
    "colab": {
      "provenance": []
    },
    "kernelspec": {
      "display_name": "Python 3",
      "name": "python3"
    },
    "language_info": {
      "name": "python"
    }
  },
  "nbformat": 4,
  "nbformat_minor": 0
}